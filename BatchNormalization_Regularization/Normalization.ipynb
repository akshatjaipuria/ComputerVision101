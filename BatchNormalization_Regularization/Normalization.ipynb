{
  "nbformat": 4,
  "nbformat_minor": 0,
  "metadata": {
    "colab": {
      "provenance": [],
      "collapsed_sections": [
        "K7tM1oZngfhg",
        "5qvQjH_bhFDp"
      ]
    },
    "kernelspec": {
      "name": "python3",
      "display_name": "Python 3"
    },
    "language_info": {
      "name": "python"
    },
    "accelerator": "GPU",
    "gpuClass": "standard",
    "widgets": {
      "application/vnd.jupyter.widget-state+json": {
        "237cff41d21643d7a39e44e0a7f0f305": {
          "model_module": "@jupyter-widgets/controls",
          "model_name": "HBoxModel",
          "model_module_version": "1.5.0",
          "state": {
            "_dom_classes": [],
            "_model_module": "@jupyter-widgets/controls",
            "_model_module_version": "1.5.0",
            "_model_name": "HBoxModel",
            "_view_count": null,
            "_view_module": "@jupyter-widgets/controls",
            "_view_module_version": "1.5.0",
            "_view_name": "HBoxView",
            "box_style": "",
            "children": [
              "IPY_MODEL_226b09ca138142a193b8bf44e8744a00",
              "IPY_MODEL_da7e4b75f41541689a69d2d96456b15d",
              "IPY_MODEL_fc5081aa46a846808b99a53a4ab4d968"
            ],
            "layout": "IPY_MODEL_4c284d79ce614a458bf5e9f4d1e0d030"
          }
        },
        "226b09ca138142a193b8bf44e8744a00": {
          "model_module": "@jupyter-widgets/controls",
          "model_name": "HTMLModel",
          "model_module_version": "1.5.0",
          "state": {
            "_dom_classes": [],
            "_model_module": "@jupyter-widgets/controls",
            "_model_module_version": "1.5.0",
            "_model_name": "HTMLModel",
            "_view_count": null,
            "_view_module": "@jupyter-widgets/controls",
            "_view_module_version": "1.5.0",
            "_view_name": "HTMLView",
            "description": "",
            "description_tooltip": null,
            "layout": "IPY_MODEL_99626906ed3a426fa9987d25424cad51",
            "placeholder": "​",
            "style": "IPY_MODEL_f468854ffa88421e81de5aaeaff3642c",
            "value": "100%"
          }
        },
        "da7e4b75f41541689a69d2d96456b15d": {
          "model_module": "@jupyter-widgets/controls",
          "model_name": "FloatProgressModel",
          "model_module_version": "1.5.0",
          "state": {
            "_dom_classes": [],
            "_model_module": "@jupyter-widgets/controls",
            "_model_module_version": "1.5.0",
            "_model_name": "FloatProgressModel",
            "_view_count": null,
            "_view_module": "@jupyter-widgets/controls",
            "_view_module_version": "1.5.0",
            "_view_name": "ProgressView",
            "bar_style": "success",
            "description": "",
            "description_tooltip": null,
            "layout": "IPY_MODEL_385407f674af46469821c846ca9fcced",
            "max": 9912422,
            "min": 0,
            "orientation": "horizontal",
            "style": "IPY_MODEL_bc1a8eb00fe74d598080d7daab1e2ec9",
            "value": 9912422
          }
        },
        "fc5081aa46a846808b99a53a4ab4d968": {
          "model_module": "@jupyter-widgets/controls",
          "model_name": "HTMLModel",
          "model_module_version": "1.5.0",
          "state": {
            "_dom_classes": [],
            "_model_module": "@jupyter-widgets/controls",
            "_model_module_version": "1.5.0",
            "_model_name": "HTMLModel",
            "_view_count": null,
            "_view_module": "@jupyter-widgets/controls",
            "_view_module_version": "1.5.0",
            "_view_name": "HTMLView",
            "description": "",
            "description_tooltip": null,
            "layout": "IPY_MODEL_84f3ac5987f84bf49177459a3c47e2f1",
            "placeholder": "​",
            "style": "IPY_MODEL_fa79499fc2ca49f1af6eb0279b6a0c27",
            "value": " 9912422/9912422 [00:00&lt;00:00, 154068568.12it/s]"
          }
        },
        "4c284d79ce614a458bf5e9f4d1e0d030": {
          "model_module": "@jupyter-widgets/base",
          "model_name": "LayoutModel",
          "model_module_version": "1.2.0",
          "state": {
            "_model_module": "@jupyter-widgets/base",
            "_model_module_version": "1.2.0",
            "_model_name": "LayoutModel",
            "_view_count": null,
            "_view_module": "@jupyter-widgets/base",
            "_view_module_version": "1.2.0",
            "_view_name": "LayoutView",
            "align_content": null,
            "align_items": null,
            "align_self": null,
            "border": null,
            "bottom": null,
            "display": null,
            "flex": null,
            "flex_flow": null,
            "grid_area": null,
            "grid_auto_columns": null,
            "grid_auto_flow": null,
            "grid_auto_rows": null,
            "grid_column": null,
            "grid_gap": null,
            "grid_row": null,
            "grid_template_areas": null,
            "grid_template_columns": null,
            "grid_template_rows": null,
            "height": null,
            "justify_content": null,
            "justify_items": null,
            "left": null,
            "margin": null,
            "max_height": null,
            "max_width": null,
            "min_height": null,
            "min_width": null,
            "object_fit": null,
            "object_position": null,
            "order": null,
            "overflow": null,
            "overflow_x": null,
            "overflow_y": null,
            "padding": null,
            "right": null,
            "top": null,
            "visibility": null,
            "width": null
          }
        },
        "99626906ed3a426fa9987d25424cad51": {
          "model_module": "@jupyter-widgets/base",
          "model_name": "LayoutModel",
          "model_module_version": "1.2.0",
          "state": {
            "_model_module": "@jupyter-widgets/base",
            "_model_module_version": "1.2.0",
            "_model_name": "LayoutModel",
            "_view_count": null,
            "_view_module": "@jupyter-widgets/base",
            "_view_module_version": "1.2.0",
            "_view_name": "LayoutView",
            "align_content": null,
            "align_items": null,
            "align_self": null,
            "border": null,
            "bottom": null,
            "display": null,
            "flex": null,
            "flex_flow": null,
            "grid_area": null,
            "grid_auto_columns": null,
            "grid_auto_flow": null,
            "grid_auto_rows": null,
            "grid_column": null,
            "grid_gap": null,
            "grid_row": null,
            "grid_template_areas": null,
            "grid_template_columns": null,
            "grid_template_rows": null,
            "height": null,
            "justify_content": null,
            "justify_items": null,
            "left": null,
            "margin": null,
            "max_height": null,
            "max_width": null,
            "min_height": null,
            "min_width": null,
            "object_fit": null,
            "object_position": null,
            "order": null,
            "overflow": null,
            "overflow_x": null,
            "overflow_y": null,
            "padding": null,
            "right": null,
            "top": null,
            "visibility": null,
            "width": null
          }
        },
        "f468854ffa88421e81de5aaeaff3642c": {
          "model_module": "@jupyter-widgets/controls",
          "model_name": "DescriptionStyleModel",
          "model_module_version": "1.5.0",
          "state": {
            "_model_module": "@jupyter-widgets/controls",
            "_model_module_version": "1.5.0",
            "_model_name": "DescriptionStyleModel",
            "_view_count": null,
            "_view_module": "@jupyter-widgets/base",
            "_view_module_version": "1.2.0",
            "_view_name": "StyleView",
            "description_width": ""
          }
        },
        "385407f674af46469821c846ca9fcced": {
          "model_module": "@jupyter-widgets/base",
          "model_name": "LayoutModel",
          "model_module_version": "1.2.0",
          "state": {
            "_model_module": "@jupyter-widgets/base",
            "_model_module_version": "1.2.0",
            "_model_name": "LayoutModel",
            "_view_count": null,
            "_view_module": "@jupyter-widgets/base",
            "_view_module_version": "1.2.0",
            "_view_name": "LayoutView",
            "align_content": null,
            "align_items": null,
            "align_self": null,
            "border": null,
            "bottom": null,
            "display": null,
            "flex": null,
            "flex_flow": null,
            "grid_area": null,
            "grid_auto_columns": null,
            "grid_auto_flow": null,
            "grid_auto_rows": null,
            "grid_column": null,
            "grid_gap": null,
            "grid_row": null,
            "grid_template_areas": null,
            "grid_template_columns": null,
            "grid_template_rows": null,
            "height": null,
            "justify_content": null,
            "justify_items": null,
            "left": null,
            "margin": null,
            "max_height": null,
            "max_width": null,
            "min_height": null,
            "min_width": null,
            "object_fit": null,
            "object_position": null,
            "order": null,
            "overflow": null,
            "overflow_x": null,
            "overflow_y": null,
            "padding": null,
            "right": null,
            "top": null,
            "visibility": null,
            "width": null
          }
        },
        "bc1a8eb00fe74d598080d7daab1e2ec9": {
          "model_module": "@jupyter-widgets/controls",
          "model_name": "ProgressStyleModel",
          "model_module_version": "1.5.0",
          "state": {
            "_model_module": "@jupyter-widgets/controls",
            "_model_module_version": "1.5.0",
            "_model_name": "ProgressStyleModel",
            "_view_count": null,
            "_view_module": "@jupyter-widgets/base",
            "_view_module_version": "1.2.0",
            "_view_name": "StyleView",
            "bar_color": null,
            "description_width": ""
          }
        },
        "84f3ac5987f84bf49177459a3c47e2f1": {
          "model_module": "@jupyter-widgets/base",
          "model_name": "LayoutModel",
          "model_module_version": "1.2.0",
          "state": {
            "_model_module": "@jupyter-widgets/base",
            "_model_module_version": "1.2.0",
            "_model_name": "LayoutModel",
            "_view_count": null,
            "_view_module": "@jupyter-widgets/base",
            "_view_module_version": "1.2.0",
            "_view_name": "LayoutView",
            "align_content": null,
            "align_items": null,
            "align_self": null,
            "border": null,
            "bottom": null,
            "display": null,
            "flex": null,
            "flex_flow": null,
            "grid_area": null,
            "grid_auto_columns": null,
            "grid_auto_flow": null,
            "grid_auto_rows": null,
            "grid_column": null,
            "grid_gap": null,
            "grid_row": null,
            "grid_template_areas": null,
            "grid_template_columns": null,
            "grid_template_rows": null,
            "height": null,
            "justify_content": null,
            "justify_items": null,
            "left": null,
            "margin": null,
            "max_height": null,
            "max_width": null,
            "min_height": null,
            "min_width": null,
            "object_fit": null,
            "object_position": null,
            "order": null,
            "overflow": null,
            "overflow_x": null,
            "overflow_y": null,
            "padding": null,
            "right": null,
            "top": null,
            "visibility": null,
            "width": null
          }
        },
        "fa79499fc2ca49f1af6eb0279b6a0c27": {
          "model_module": "@jupyter-widgets/controls",
          "model_name": "DescriptionStyleModel",
          "model_module_version": "1.5.0",
          "state": {
            "_model_module": "@jupyter-widgets/controls",
            "_model_module_version": "1.5.0",
            "_model_name": "DescriptionStyleModel",
            "_view_count": null,
            "_view_module": "@jupyter-widgets/base",
            "_view_module_version": "1.2.0",
            "_view_name": "StyleView",
            "description_width": ""
          }
        },
        "ea5f7e239a144a04a85483df41fa623d": {
          "model_module": "@jupyter-widgets/controls",
          "model_name": "HBoxModel",
          "model_module_version": "1.5.0",
          "state": {
            "_dom_classes": [],
            "_model_module": "@jupyter-widgets/controls",
            "_model_module_version": "1.5.0",
            "_model_name": "HBoxModel",
            "_view_count": null,
            "_view_module": "@jupyter-widgets/controls",
            "_view_module_version": "1.5.0",
            "_view_name": "HBoxView",
            "box_style": "",
            "children": [
              "IPY_MODEL_80f4efacfaf04b1f9ed964c7df293272",
              "IPY_MODEL_efc9066496f94b0cb20819775a5f3090",
              "IPY_MODEL_5d317f2ee0514805a297af32b469f9b2"
            ],
            "layout": "IPY_MODEL_223ad2625eab45e49bb5300202a777f2"
          }
        },
        "80f4efacfaf04b1f9ed964c7df293272": {
          "model_module": "@jupyter-widgets/controls",
          "model_name": "HTMLModel",
          "model_module_version": "1.5.0",
          "state": {
            "_dom_classes": [],
            "_model_module": "@jupyter-widgets/controls",
            "_model_module_version": "1.5.0",
            "_model_name": "HTMLModel",
            "_view_count": null,
            "_view_module": "@jupyter-widgets/controls",
            "_view_module_version": "1.5.0",
            "_view_name": "HTMLView",
            "description": "",
            "description_tooltip": null,
            "layout": "IPY_MODEL_97db27f2854e4fc6a845fda5008c89c6",
            "placeholder": "​",
            "style": "IPY_MODEL_3d4accf029c247c986f4c900453fde8c",
            "value": "100%"
          }
        },
        "efc9066496f94b0cb20819775a5f3090": {
          "model_module": "@jupyter-widgets/controls",
          "model_name": "FloatProgressModel",
          "model_module_version": "1.5.0",
          "state": {
            "_dom_classes": [],
            "_model_module": "@jupyter-widgets/controls",
            "_model_module_version": "1.5.0",
            "_model_name": "FloatProgressModel",
            "_view_count": null,
            "_view_module": "@jupyter-widgets/controls",
            "_view_module_version": "1.5.0",
            "_view_name": "ProgressView",
            "bar_style": "success",
            "description": "",
            "description_tooltip": null,
            "layout": "IPY_MODEL_c38fe5f7e19b44b8a7b8013f7e4a613f",
            "max": 28881,
            "min": 0,
            "orientation": "horizontal",
            "style": "IPY_MODEL_7b585f4784ab40ed99417cb51f1091a4",
            "value": 28881
          }
        },
        "5d317f2ee0514805a297af32b469f9b2": {
          "model_module": "@jupyter-widgets/controls",
          "model_name": "HTMLModel",
          "model_module_version": "1.5.0",
          "state": {
            "_dom_classes": [],
            "_model_module": "@jupyter-widgets/controls",
            "_model_module_version": "1.5.0",
            "_model_name": "HTMLModel",
            "_view_count": null,
            "_view_module": "@jupyter-widgets/controls",
            "_view_module_version": "1.5.0",
            "_view_name": "HTMLView",
            "description": "",
            "description_tooltip": null,
            "layout": "IPY_MODEL_4810d0ad759f4c5d87886171ead087df",
            "placeholder": "​",
            "style": "IPY_MODEL_1afa5d8911414c4b8a924c06b862163b",
            "value": " 28881/28881 [00:00&lt;00:00, 1051716.84it/s]"
          }
        },
        "223ad2625eab45e49bb5300202a777f2": {
          "model_module": "@jupyter-widgets/base",
          "model_name": "LayoutModel",
          "model_module_version": "1.2.0",
          "state": {
            "_model_module": "@jupyter-widgets/base",
            "_model_module_version": "1.2.0",
            "_model_name": "LayoutModel",
            "_view_count": null,
            "_view_module": "@jupyter-widgets/base",
            "_view_module_version": "1.2.0",
            "_view_name": "LayoutView",
            "align_content": null,
            "align_items": null,
            "align_self": null,
            "border": null,
            "bottom": null,
            "display": null,
            "flex": null,
            "flex_flow": null,
            "grid_area": null,
            "grid_auto_columns": null,
            "grid_auto_flow": null,
            "grid_auto_rows": null,
            "grid_column": null,
            "grid_gap": null,
            "grid_row": null,
            "grid_template_areas": null,
            "grid_template_columns": null,
            "grid_template_rows": null,
            "height": null,
            "justify_content": null,
            "justify_items": null,
            "left": null,
            "margin": null,
            "max_height": null,
            "max_width": null,
            "min_height": null,
            "min_width": null,
            "object_fit": null,
            "object_position": null,
            "order": null,
            "overflow": null,
            "overflow_x": null,
            "overflow_y": null,
            "padding": null,
            "right": null,
            "top": null,
            "visibility": null,
            "width": null
          }
        },
        "97db27f2854e4fc6a845fda5008c89c6": {
          "model_module": "@jupyter-widgets/base",
          "model_name": "LayoutModel",
          "model_module_version": "1.2.0",
          "state": {
            "_model_module": "@jupyter-widgets/base",
            "_model_module_version": "1.2.0",
            "_model_name": "LayoutModel",
            "_view_count": null,
            "_view_module": "@jupyter-widgets/base",
            "_view_module_version": "1.2.0",
            "_view_name": "LayoutView",
            "align_content": null,
            "align_items": null,
            "align_self": null,
            "border": null,
            "bottom": null,
            "display": null,
            "flex": null,
            "flex_flow": null,
            "grid_area": null,
            "grid_auto_columns": null,
            "grid_auto_flow": null,
            "grid_auto_rows": null,
            "grid_column": null,
            "grid_gap": null,
            "grid_row": null,
            "grid_template_areas": null,
            "grid_template_columns": null,
            "grid_template_rows": null,
            "height": null,
            "justify_content": null,
            "justify_items": null,
            "left": null,
            "margin": null,
            "max_height": null,
            "max_width": null,
            "min_height": null,
            "min_width": null,
            "object_fit": null,
            "object_position": null,
            "order": null,
            "overflow": null,
            "overflow_x": null,
            "overflow_y": null,
            "padding": null,
            "right": null,
            "top": null,
            "visibility": null,
            "width": null
          }
        },
        "3d4accf029c247c986f4c900453fde8c": {
          "model_module": "@jupyter-widgets/controls",
          "model_name": "DescriptionStyleModel",
          "model_module_version": "1.5.0",
          "state": {
            "_model_module": "@jupyter-widgets/controls",
            "_model_module_version": "1.5.0",
            "_model_name": "DescriptionStyleModel",
            "_view_count": null,
            "_view_module": "@jupyter-widgets/base",
            "_view_module_version": "1.2.0",
            "_view_name": "StyleView",
            "description_width": ""
          }
        },
        "c38fe5f7e19b44b8a7b8013f7e4a613f": {
          "model_module": "@jupyter-widgets/base",
          "model_name": "LayoutModel",
          "model_module_version": "1.2.0",
          "state": {
            "_model_module": "@jupyter-widgets/base",
            "_model_module_version": "1.2.0",
            "_model_name": "LayoutModel",
            "_view_count": null,
            "_view_module": "@jupyter-widgets/base",
            "_view_module_version": "1.2.0",
            "_view_name": "LayoutView",
            "align_content": null,
            "align_items": null,
            "align_self": null,
            "border": null,
            "bottom": null,
            "display": null,
            "flex": null,
            "flex_flow": null,
            "grid_area": null,
            "grid_auto_columns": null,
            "grid_auto_flow": null,
            "grid_auto_rows": null,
            "grid_column": null,
            "grid_gap": null,
            "grid_row": null,
            "grid_template_areas": null,
            "grid_template_columns": null,
            "grid_template_rows": null,
            "height": null,
            "justify_content": null,
            "justify_items": null,
            "left": null,
            "margin": null,
            "max_height": null,
            "max_width": null,
            "min_height": null,
            "min_width": null,
            "object_fit": null,
            "object_position": null,
            "order": null,
            "overflow": null,
            "overflow_x": null,
            "overflow_y": null,
            "padding": null,
            "right": null,
            "top": null,
            "visibility": null,
            "width": null
          }
        },
        "7b585f4784ab40ed99417cb51f1091a4": {
          "model_module": "@jupyter-widgets/controls",
          "model_name": "ProgressStyleModel",
          "model_module_version": "1.5.0",
          "state": {
            "_model_module": "@jupyter-widgets/controls",
            "_model_module_version": "1.5.0",
            "_model_name": "ProgressStyleModel",
            "_view_count": null,
            "_view_module": "@jupyter-widgets/base",
            "_view_module_version": "1.2.0",
            "_view_name": "StyleView",
            "bar_color": null,
            "description_width": ""
          }
        },
        "4810d0ad759f4c5d87886171ead087df": {
          "model_module": "@jupyter-widgets/base",
          "model_name": "LayoutModel",
          "model_module_version": "1.2.0",
          "state": {
            "_model_module": "@jupyter-widgets/base",
            "_model_module_version": "1.2.0",
            "_model_name": "LayoutModel",
            "_view_count": null,
            "_view_module": "@jupyter-widgets/base",
            "_view_module_version": "1.2.0",
            "_view_name": "LayoutView",
            "align_content": null,
            "align_items": null,
            "align_self": null,
            "border": null,
            "bottom": null,
            "display": null,
            "flex": null,
            "flex_flow": null,
            "grid_area": null,
            "grid_auto_columns": null,
            "grid_auto_flow": null,
            "grid_auto_rows": null,
            "grid_column": null,
            "grid_gap": null,
            "grid_row": null,
            "grid_template_areas": null,
            "grid_template_columns": null,
            "grid_template_rows": null,
            "height": null,
            "justify_content": null,
            "justify_items": null,
            "left": null,
            "margin": null,
            "max_height": null,
            "max_width": null,
            "min_height": null,
            "min_width": null,
            "object_fit": null,
            "object_position": null,
            "order": null,
            "overflow": null,
            "overflow_x": null,
            "overflow_y": null,
            "padding": null,
            "right": null,
            "top": null,
            "visibility": null,
            "width": null
          }
        },
        "1afa5d8911414c4b8a924c06b862163b": {
          "model_module": "@jupyter-widgets/controls",
          "model_name": "DescriptionStyleModel",
          "model_module_version": "1.5.0",
          "state": {
            "_model_module": "@jupyter-widgets/controls",
            "_model_module_version": "1.5.0",
            "_model_name": "DescriptionStyleModel",
            "_view_count": null,
            "_view_module": "@jupyter-widgets/base",
            "_view_module_version": "1.2.0",
            "_view_name": "StyleView",
            "description_width": ""
          }
        },
        "ea7794746c9b42b3bb1364b02e0f21d5": {
          "model_module": "@jupyter-widgets/controls",
          "model_name": "HBoxModel",
          "model_module_version": "1.5.0",
          "state": {
            "_dom_classes": [],
            "_model_module": "@jupyter-widgets/controls",
            "_model_module_version": "1.5.0",
            "_model_name": "HBoxModel",
            "_view_count": null,
            "_view_module": "@jupyter-widgets/controls",
            "_view_module_version": "1.5.0",
            "_view_name": "HBoxView",
            "box_style": "",
            "children": [
              "IPY_MODEL_fe888c1e29d94c37b715142b6f13fa36",
              "IPY_MODEL_3cd79d9778584d7b87c226b978cd9096",
              "IPY_MODEL_c547df9c0a974508b63038b043a7f252"
            ],
            "layout": "IPY_MODEL_afd58420568c451a9f5653f2f3d756ae"
          }
        },
        "fe888c1e29d94c37b715142b6f13fa36": {
          "model_module": "@jupyter-widgets/controls",
          "model_name": "HTMLModel",
          "model_module_version": "1.5.0",
          "state": {
            "_dom_classes": [],
            "_model_module": "@jupyter-widgets/controls",
            "_model_module_version": "1.5.0",
            "_model_name": "HTMLModel",
            "_view_count": null,
            "_view_module": "@jupyter-widgets/controls",
            "_view_module_version": "1.5.0",
            "_view_name": "HTMLView",
            "description": "",
            "description_tooltip": null,
            "layout": "IPY_MODEL_f0b9d0dd07a641bba836b6b8ee9e429b",
            "placeholder": "​",
            "style": "IPY_MODEL_25e19c7f09e443f68de76cd71e750a7c",
            "value": "100%"
          }
        },
        "3cd79d9778584d7b87c226b978cd9096": {
          "model_module": "@jupyter-widgets/controls",
          "model_name": "FloatProgressModel",
          "model_module_version": "1.5.0",
          "state": {
            "_dom_classes": [],
            "_model_module": "@jupyter-widgets/controls",
            "_model_module_version": "1.5.0",
            "_model_name": "FloatProgressModel",
            "_view_count": null,
            "_view_module": "@jupyter-widgets/controls",
            "_view_module_version": "1.5.0",
            "_view_name": "ProgressView",
            "bar_style": "success",
            "description": "",
            "description_tooltip": null,
            "layout": "IPY_MODEL_87ddf573cdc74bde92143d3b6333731f",
            "max": 1648877,
            "min": 0,
            "orientation": "horizontal",
            "style": "IPY_MODEL_3d40f73c638544529233098508c91e3c",
            "value": 1648877
          }
        },
        "c547df9c0a974508b63038b043a7f252": {
          "model_module": "@jupyter-widgets/controls",
          "model_name": "HTMLModel",
          "model_module_version": "1.5.0",
          "state": {
            "_dom_classes": [],
            "_model_module": "@jupyter-widgets/controls",
            "_model_module_version": "1.5.0",
            "_model_name": "HTMLModel",
            "_view_count": null,
            "_view_module": "@jupyter-widgets/controls",
            "_view_module_version": "1.5.0",
            "_view_name": "HTMLView",
            "description": "",
            "description_tooltip": null,
            "layout": "IPY_MODEL_b2d771c051864892b5ee9126f9093ea0",
            "placeholder": "​",
            "style": "IPY_MODEL_2c26f3aa461f488ea6c201b076f91938",
            "value": " 1648877/1648877 [00:00&lt;00:00, 44392111.20it/s]"
          }
        },
        "afd58420568c451a9f5653f2f3d756ae": {
          "model_module": "@jupyter-widgets/base",
          "model_name": "LayoutModel",
          "model_module_version": "1.2.0",
          "state": {
            "_model_module": "@jupyter-widgets/base",
            "_model_module_version": "1.2.0",
            "_model_name": "LayoutModel",
            "_view_count": null,
            "_view_module": "@jupyter-widgets/base",
            "_view_module_version": "1.2.0",
            "_view_name": "LayoutView",
            "align_content": null,
            "align_items": null,
            "align_self": null,
            "border": null,
            "bottom": null,
            "display": null,
            "flex": null,
            "flex_flow": null,
            "grid_area": null,
            "grid_auto_columns": null,
            "grid_auto_flow": null,
            "grid_auto_rows": null,
            "grid_column": null,
            "grid_gap": null,
            "grid_row": null,
            "grid_template_areas": null,
            "grid_template_columns": null,
            "grid_template_rows": null,
            "height": null,
            "justify_content": null,
            "justify_items": null,
            "left": null,
            "margin": null,
            "max_height": null,
            "max_width": null,
            "min_height": null,
            "min_width": null,
            "object_fit": null,
            "object_position": null,
            "order": null,
            "overflow": null,
            "overflow_x": null,
            "overflow_y": null,
            "padding": null,
            "right": null,
            "top": null,
            "visibility": null,
            "width": null
          }
        },
        "f0b9d0dd07a641bba836b6b8ee9e429b": {
          "model_module": "@jupyter-widgets/base",
          "model_name": "LayoutModel",
          "model_module_version": "1.2.0",
          "state": {
            "_model_module": "@jupyter-widgets/base",
            "_model_module_version": "1.2.0",
            "_model_name": "LayoutModel",
            "_view_count": null,
            "_view_module": "@jupyter-widgets/base",
            "_view_module_version": "1.2.0",
            "_view_name": "LayoutView",
            "align_content": null,
            "align_items": null,
            "align_self": null,
            "border": null,
            "bottom": null,
            "display": null,
            "flex": null,
            "flex_flow": null,
            "grid_area": null,
            "grid_auto_columns": null,
            "grid_auto_flow": null,
            "grid_auto_rows": null,
            "grid_column": null,
            "grid_gap": null,
            "grid_row": null,
            "grid_template_areas": null,
            "grid_template_columns": null,
            "grid_template_rows": null,
            "height": null,
            "justify_content": null,
            "justify_items": null,
            "left": null,
            "margin": null,
            "max_height": null,
            "max_width": null,
            "min_height": null,
            "min_width": null,
            "object_fit": null,
            "object_position": null,
            "order": null,
            "overflow": null,
            "overflow_x": null,
            "overflow_y": null,
            "padding": null,
            "right": null,
            "top": null,
            "visibility": null,
            "width": null
          }
        },
        "25e19c7f09e443f68de76cd71e750a7c": {
          "model_module": "@jupyter-widgets/controls",
          "model_name": "DescriptionStyleModel",
          "model_module_version": "1.5.0",
          "state": {
            "_model_module": "@jupyter-widgets/controls",
            "_model_module_version": "1.5.0",
            "_model_name": "DescriptionStyleModel",
            "_view_count": null,
            "_view_module": "@jupyter-widgets/base",
            "_view_module_version": "1.2.0",
            "_view_name": "StyleView",
            "description_width": ""
          }
        },
        "87ddf573cdc74bde92143d3b6333731f": {
          "model_module": "@jupyter-widgets/base",
          "model_name": "LayoutModel",
          "model_module_version": "1.2.0",
          "state": {
            "_model_module": "@jupyter-widgets/base",
            "_model_module_version": "1.2.0",
            "_model_name": "LayoutModel",
            "_view_count": null,
            "_view_module": "@jupyter-widgets/base",
            "_view_module_version": "1.2.0",
            "_view_name": "LayoutView",
            "align_content": null,
            "align_items": null,
            "align_self": null,
            "border": null,
            "bottom": null,
            "display": null,
            "flex": null,
            "flex_flow": null,
            "grid_area": null,
            "grid_auto_columns": null,
            "grid_auto_flow": null,
            "grid_auto_rows": null,
            "grid_column": null,
            "grid_gap": null,
            "grid_row": null,
            "grid_template_areas": null,
            "grid_template_columns": null,
            "grid_template_rows": null,
            "height": null,
            "justify_content": null,
            "justify_items": null,
            "left": null,
            "margin": null,
            "max_height": null,
            "max_width": null,
            "min_height": null,
            "min_width": null,
            "object_fit": null,
            "object_position": null,
            "order": null,
            "overflow": null,
            "overflow_x": null,
            "overflow_y": null,
            "padding": null,
            "right": null,
            "top": null,
            "visibility": null,
            "width": null
          }
        },
        "3d40f73c638544529233098508c91e3c": {
          "model_module": "@jupyter-widgets/controls",
          "model_name": "ProgressStyleModel",
          "model_module_version": "1.5.0",
          "state": {
            "_model_module": "@jupyter-widgets/controls",
            "_model_module_version": "1.5.0",
            "_model_name": "ProgressStyleModel",
            "_view_count": null,
            "_view_module": "@jupyter-widgets/base",
            "_view_module_version": "1.2.0",
            "_view_name": "StyleView",
            "bar_color": null,
            "description_width": ""
          }
        },
        "b2d771c051864892b5ee9126f9093ea0": {
          "model_module": "@jupyter-widgets/base",
          "model_name": "LayoutModel",
          "model_module_version": "1.2.0",
          "state": {
            "_model_module": "@jupyter-widgets/base",
            "_model_module_version": "1.2.0",
            "_model_name": "LayoutModel",
            "_view_count": null,
            "_view_module": "@jupyter-widgets/base",
            "_view_module_version": "1.2.0",
            "_view_name": "LayoutView",
            "align_content": null,
            "align_items": null,
            "align_self": null,
            "border": null,
            "bottom": null,
            "display": null,
            "flex": null,
            "flex_flow": null,
            "grid_area": null,
            "grid_auto_columns": null,
            "grid_auto_flow": null,
            "grid_auto_rows": null,
            "grid_column": null,
            "grid_gap": null,
            "grid_row": null,
            "grid_template_areas": null,
            "grid_template_columns": null,
            "grid_template_rows": null,
            "height": null,
            "justify_content": null,
            "justify_items": null,
            "left": null,
            "margin": null,
            "max_height": null,
            "max_width": null,
            "min_height": null,
            "min_width": null,
            "object_fit": null,
            "object_position": null,
            "order": null,
            "overflow": null,
            "overflow_x": null,
            "overflow_y": null,
            "padding": null,
            "right": null,
            "top": null,
            "visibility": null,
            "width": null
          }
        },
        "2c26f3aa461f488ea6c201b076f91938": {
          "model_module": "@jupyter-widgets/controls",
          "model_name": "DescriptionStyleModel",
          "model_module_version": "1.5.0",
          "state": {
            "_model_module": "@jupyter-widgets/controls",
            "_model_module_version": "1.5.0",
            "_model_name": "DescriptionStyleModel",
            "_view_count": null,
            "_view_module": "@jupyter-widgets/base",
            "_view_module_version": "1.2.0",
            "_view_name": "StyleView",
            "description_width": ""
          }
        },
        "4f13ab234dbd4bac9799084584d6fe59": {
          "model_module": "@jupyter-widgets/controls",
          "model_name": "HBoxModel",
          "model_module_version": "1.5.0",
          "state": {
            "_dom_classes": [],
            "_model_module": "@jupyter-widgets/controls",
            "_model_module_version": "1.5.0",
            "_model_name": "HBoxModel",
            "_view_count": null,
            "_view_module": "@jupyter-widgets/controls",
            "_view_module_version": "1.5.0",
            "_view_name": "HBoxView",
            "box_style": "",
            "children": [
              "IPY_MODEL_c3cf6438e9254d76b839188953260443",
              "IPY_MODEL_7d1beec4674241a9af53544c253a52b9",
              "IPY_MODEL_3b68f090fe284a698fcf700b49529f75"
            ],
            "layout": "IPY_MODEL_c3ed866832de484286f2781f1a086b06"
          }
        },
        "c3cf6438e9254d76b839188953260443": {
          "model_module": "@jupyter-widgets/controls",
          "model_name": "HTMLModel",
          "model_module_version": "1.5.0",
          "state": {
            "_dom_classes": [],
            "_model_module": "@jupyter-widgets/controls",
            "_model_module_version": "1.5.0",
            "_model_name": "HTMLModel",
            "_view_count": null,
            "_view_module": "@jupyter-widgets/controls",
            "_view_module_version": "1.5.0",
            "_view_name": "HTMLView",
            "description": "",
            "description_tooltip": null,
            "layout": "IPY_MODEL_e36e369e3c6e45aa9623c4ea39c22f9b",
            "placeholder": "​",
            "style": "IPY_MODEL_79f3edb5cdd447a490718bead705cc60",
            "value": "100%"
          }
        },
        "7d1beec4674241a9af53544c253a52b9": {
          "model_module": "@jupyter-widgets/controls",
          "model_name": "FloatProgressModel",
          "model_module_version": "1.5.0",
          "state": {
            "_dom_classes": [],
            "_model_module": "@jupyter-widgets/controls",
            "_model_module_version": "1.5.0",
            "_model_name": "FloatProgressModel",
            "_view_count": null,
            "_view_module": "@jupyter-widgets/controls",
            "_view_module_version": "1.5.0",
            "_view_name": "ProgressView",
            "bar_style": "success",
            "description": "",
            "description_tooltip": null,
            "layout": "IPY_MODEL_08fcc4671db342ed9d99c4ba2ac984d7",
            "max": 4542,
            "min": 0,
            "orientation": "horizontal",
            "style": "IPY_MODEL_7710fd613a584d24aee00fa171967057",
            "value": 4542
          }
        },
        "3b68f090fe284a698fcf700b49529f75": {
          "model_module": "@jupyter-widgets/controls",
          "model_name": "HTMLModel",
          "model_module_version": "1.5.0",
          "state": {
            "_dom_classes": [],
            "_model_module": "@jupyter-widgets/controls",
            "_model_module_version": "1.5.0",
            "_model_name": "HTMLModel",
            "_view_count": null,
            "_view_module": "@jupyter-widgets/controls",
            "_view_module_version": "1.5.0",
            "_view_name": "HTMLView",
            "description": "",
            "description_tooltip": null,
            "layout": "IPY_MODEL_9fc37610f118454e90a490098abced43",
            "placeholder": "​",
            "style": "IPY_MODEL_0773d99291684dd1a2926a7b5f0d504c",
            "value": " 4542/4542 [00:00&lt;00:00, 48794.96it/s]"
          }
        },
        "c3ed866832de484286f2781f1a086b06": {
          "model_module": "@jupyter-widgets/base",
          "model_name": "LayoutModel",
          "model_module_version": "1.2.0",
          "state": {
            "_model_module": "@jupyter-widgets/base",
            "_model_module_version": "1.2.0",
            "_model_name": "LayoutModel",
            "_view_count": null,
            "_view_module": "@jupyter-widgets/base",
            "_view_module_version": "1.2.0",
            "_view_name": "LayoutView",
            "align_content": null,
            "align_items": null,
            "align_self": null,
            "border": null,
            "bottom": null,
            "display": null,
            "flex": null,
            "flex_flow": null,
            "grid_area": null,
            "grid_auto_columns": null,
            "grid_auto_flow": null,
            "grid_auto_rows": null,
            "grid_column": null,
            "grid_gap": null,
            "grid_row": null,
            "grid_template_areas": null,
            "grid_template_columns": null,
            "grid_template_rows": null,
            "height": null,
            "justify_content": null,
            "justify_items": null,
            "left": null,
            "margin": null,
            "max_height": null,
            "max_width": null,
            "min_height": null,
            "min_width": null,
            "object_fit": null,
            "object_position": null,
            "order": null,
            "overflow": null,
            "overflow_x": null,
            "overflow_y": null,
            "padding": null,
            "right": null,
            "top": null,
            "visibility": null,
            "width": null
          }
        },
        "e36e369e3c6e45aa9623c4ea39c22f9b": {
          "model_module": "@jupyter-widgets/base",
          "model_name": "LayoutModel",
          "model_module_version": "1.2.0",
          "state": {
            "_model_module": "@jupyter-widgets/base",
            "_model_module_version": "1.2.0",
            "_model_name": "LayoutModel",
            "_view_count": null,
            "_view_module": "@jupyter-widgets/base",
            "_view_module_version": "1.2.0",
            "_view_name": "LayoutView",
            "align_content": null,
            "align_items": null,
            "align_self": null,
            "border": null,
            "bottom": null,
            "display": null,
            "flex": null,
            "flex_flow": null,
            "grid_area": null,
            "grid_auto_columns": null,
            "grid_auto_flow": null,
            "grid_auto_rows": null,
            "grid_column": null,
            "grid_gap": null,
            "grid_row": null,
            "grid_template_areas": null,
            "grid_template_columns": null,
            "grid_template_rows": null,
            "height": null,
            "justify_content": null,
            "justify_items": null,
            "left": null,
            "margin": null,
            "max_height": null,
            "max_width": null,
            "min_height": null,
            "min_width": null,
            "object_fit": null,
            "object_position": null,
            "order": null,
            "overflow": null,
            "overflow_x": null,
            "overflow_y": null,
            "padding": null,
            "right": null,
            "top": null,
            "visibility": null,
            "width": null
          }
        },
        "79f3edb5cdd447a490718bead705cc60": {
          "model_module": "@jupyter-widgets/controls",
          "model_name": "DescriptionStyleModel",
          "model_module_version": "1.5.0",
          "state": {
            "_model_module": "@jupyter-widgets/controls",
            "_model_module_version": "1.5.0",
            "_model_name": "DescriptionStyleModel",
            "_view_count": null,
            "_view_module": "@jupyter-widgets/base",
            "_view_module_version": "1.2.0",
            "_view_name": "StyleView",
            "description_width": ""
          }
        },
        "08fcc4671db342ed9d99c4ba2ac984d7": {
          "model_module": "@jupyter-widgets/base",
          "model_name": "LayoutModel",
          "model_module_version": "1.2.0",
          "state": {
            "_model_module": "@jupyter-widgets/base",
            "_model_module_version": "1.2.0",
            "_model_name": "LayoutModel",
            "_view_count": null,
            "_view_module": "@jupyter-widgets/base",
            "_view_module_version": "1.2.0",
            "_view_name": "LayoutView",
            "align_content": null,
            "align_items": null,
            "align_self": null,
            "border": null,
            "bottom": null,
            "display": null,
            "flex": null,
            "flex_flow": null,
            "grid_area": null,
            "grid_auto_columns": null,
            "grid_auto_flow": null,
            "grid_auto_rows": null,
            "grid_column": null,
            "grid_gap": null,
            "grid_row": null,
            "grid_template_areas": null,
            "grid_template_columns": null,
            "grid_template_rows": null,
            "height": null,
            "justify_content": null,
            "justify_items": null,
            "left": null,
            "margin": null,
            "max_height": null,
            "max_width": null,
            "min_height": null,
            "min_width": null,
            "object_fit": null,
            "object_position": null,
            "order": null,
            "overflow": null,
            "overflow_x": null,
            "overflow_y": null,
            "padding": null,
            "right": null,
            "top": null,
            "visibility": null,
            "width": null
          }
        },
        "7710fd613a584d24aee00fa171967057": {
          "model_module": "@jupyter-widgets/controls",
          "model_name": "ProgressStyleModel",
          "model_module_version": "1.5.0",
          "state": {
            "_model_module": "@jupyter-widgets/controls",
            "_model_module_version": "1.5.0",
            "_model_name": "ProgressStyleModel",
            "_view_count": null,
            "_view_module": "@jupyter-widgets/base",
            "_view_module_version": "1.2.0",
            "_view_name": "StyleView",
            "bar_color": null,
            "description_width": ""
          }
        },
        "9fc37610f118454e90a490098abced43": {
          "model_module": "@jupyter-widgets/base",
          "model_name": "LayoutModel",
          "model_module_version": "1.2.0",
          "state": {
            "_model_module": "@jupyter-widgets/base",
            "_model_module_version": "1.2.0",
            "_model_name": "LayoutModel",
            "_view_count": null,
            "_view_module": "@jupyter-widgets/base",
            "_view_module_version": "1.2.0",
            "_view_name": "LayoutView",
            "align_content": null,
            "align_items": null,
            "align_self": null,
            "border": null,
            "bottom": null,
            "display": null,
            "flex": null,
            "flex_flow": null,
            "grid_area": null,
            "grid_auto_columns": null,
            "grid_auto_flow": null,
            "grid_auto_rows": null,
            "grid_column": null,
            "grid_gap": null,
            "grid_row": null,
            "grid_template_areas": null,
            "grid_template_columns": null,
            "grid_template_rows": null,
            "height": null,
            "justify_content": null,
            "justify_items": null,
            "left": null,
            "margin": null,
            "max_height": null,
            "max_width": null,
            "min_height": null,
            "min_width": null,
            "object_fit": null,
            "object_position": null,
            "order": null,
            "overflow": null,
            "overflow_x": null,
            "overflow_y": null,
            "padding": null,
            "right": null,
            "top": null,
            "visibility": null,
            "width": null
          }
        },
        "0773d99291684dd1a2926a7b5f0d504c": {
          "model_module": "@jupyter-widgets/controls",
          "model_name": "DescriptionStyleModel",
          "model_module_version": "1.5.0",
          "state": {
            "_model_module": "@jupyter-widgets/controls",
            "_model_module_version": "1.5.0",
            "_model_name": "DescriptionStyleModel",
            "_view_count": null,
            "_view_module": "@jupyter-widgets/base",
            "_view_module_version": "1.2.0",
            "_view_name": "StyleView",
            "description_width": ""
          }
        }
      }
    }
  },
  "cells": [
    {
      "cell_type": "markdown",
      "source": [
        "### Initial Setup"
      ],
      "metadata": {
        "id": "KWIAw9l9hVZl"
      }
    },
    {
      "cell_type": "code",
      "execution_count": 1,
      "metadata": {
        "colab": {
          "base_uri": "https://localhost:8080/"
        },
        "id": "dbmz65J_TjNN",
        "outputId": "f80825df-aac2-4104-a3cc-f552488270e0"
      },
      "outputs": [
        {
          "output_type": "stream",
          "name": "stdout",
          "text": [
            "GPU 0: Tesla T4 (UUID: GPU-d6895c6c-8afc-fdb1-688f-8605a00cb606)\n"
          ]
        }
      ],
      "source": [
        "!nvidia-smi -L"
      ]
    },
    {
      "cell_type": "code",
      "source": [
        "!git clone \"https://github.com/akshatjaipuria/ComputerVision101.git\""
      ],
      "metadata": {
        "colab": {
          "base_uri": "https://localhost:8080/"
        },
        "id": "1nMJTRKITpqE",
        "outputId": "5f932c85-a206-4236-ffa7-7a706025a15f"
      },
      "execution_count": 2,
      "outputs": [
        {
          "output_type": "stream",
          "name": "stdout",
          "text": [
            "Cloning into 'ComputerVision101'...\n",
            "remote: Enumerating objects: 144, done.\u001b[K\n",
            "remote: Counting objects: 100% (144/144), done.\u001b[K\n",
            "remote: Compressing objects: 100% (101/101), done.\u001b[K\n",
            "remote: Total 144 (delta 49), reused 121 (delta 33), pack-reused 0\u001b[K\n",
            "Receiving objects: 100% (144/144), 2.14 MiB | 4.39 MiB/s, done.\n",
            "Resolving deltas: 100% (49/49), done.\n"
          ]
        }
      ]
    },
    {
      "cell_type": "code",
      "source": [
        "%cd '/content/ComputerVision101/BatchNormalization_Regularization'"
      ],
      "metadata": {
        "colab": {
          "base_uri": "https://localhost:8080/"
        },
        "id": "04sR-ngqUM17",
        "outputId": "681685cf-4a0c-422e-fcc3-9999def7a67a"
      },
      "execution_count": 3,
      "outputs": [
        {
          "output_type": "stream",
          "name": "stdout",
          "text": [
            "/content/ComputerVision101/BatchNormalization_Regularization\n"
          ]
        }
      ]
    },
    {
      "cell_type": "markdown",
      "source": [
        "### Dataloaders"
      ],
      "metadata": {
        "id": "eb3Lw64-hP87"
      }
    },
    {
      "cell_type": "code",
      "source": [
        "import torch\n",
        "import torch.nn as nn\n",
        "import torchvision\n",
        "import torchvision.transforms as transforms"
      ],
      "metadata": {
        "id": "KVK-tAcNUTRf"
      },
      "execution_count": 4,
      "outputs": []
    },
    {
      "cell_type": "code",
      "source": [
        "device = torch.device (\"cuda:0\" if torch.cuda.is_available () else \"cpu\")\n",
        "print (f\"Device: {device}\")"
      ],
      "metadata": {
        "colab": {
          "base_uri": "https://localhost:8080/"
        },
        "id": "SGaY5oAyUYZX",
        "outputId": "0333ff38-4ea2-4a6d-9329-e4b595823f89"
      },
      "execution_count": 5,
      "outputs": [
        {
          "output_type": "stream",
          "name": "stdout",
          "text": [
            "Device: cuda:0\n"
          ]
        }
      ]
    },
    {
      "cell_type": "code",
      "source": [
        "# Train data transformations\n",
        "train_transforms = transforms.Compose([\n",
        "    transforms.RandomRotation((-10., 10.), fill=0),\n",
        "    transforms.ToTensor(),\n",
        "    transforms.Normalize((0.1307,), (0.3081,)),\n",
        "    ])\n",
        "\n",
        "# Test data transformations\n",
        "test_transforms = transforms.Compose([\n",
        "    transforms.ToTensor(),\n",
        "    transforms.Normalize((0.1307,), (0.3081,))\n",
        "    ])"
      ],
      "metadata": {
        "id": "EFb2pkTHUfpS"
      },
      "execution_count": 6,
      "outputs": []
    },
    {
      "cell_type": "code",
      "source": [
        "from data_loader.data_loader import GetDataLoaders\n",
        "\n",
        "train_loader, test_loader = GetDataLoaders(torchvision.datasets.MNIST, train_transforms, test_transforms, 512)"
      ],
      "metadata": {
        "colab": {
          "base_uri": "https://localhost:8080/",
          "height": 440,
          "referenced_widgets": [
            "237cff41d21643d7a39e44e0a7f0f305",
            "226b09ca138142a193b8bf44e8744a00",
            "da7e4b75f41541689a69d2d96456b15d",
            "fc5081aa46a846808b99a53a4ab4d968",
            "4c284d79ce614a458bf5e9f4d1e0d030",
            "99626906ed3a426fa9987d25424cad51",
            "f468854ffa88421e81de5aaeaff3642c",
            "385407f674af46469821c846ca9fcced",
            "bc1a8eb00fe74d598080d7daab1e2ec9",
            "84f3ac5987f84bf49177459a3c47e2f1",
            "fa79499fc2ca49f1af6eb0279b6a0c27",
            "ea5f7e239a144a04a85483df41fa623d",
            "80f4efacfaf04b1f9ed964c7df293272",
            "efc9066496f94b0cb20819775a5f3090",
            "5d317f2ee0514805a297af32b469f9b2",
            "223ad2625eab45e49bb5300202a777f2",
            "97db27f2854e4fc6a845fda5008c89c6",
            "3d4accf029c247c986f4c900453fde8c",
            "c38fe5f7e19b44b8a7b8013f7e4a613f",
            "7b585f4784ab40ed99417cb51f1091a4",
            "4810d0ad759f4c5d87886171ead087df",
            "1afa5d8911414c4b8a924c06b862163b",
            "ea7794746c9b42b3bb1364b02e0f21d5",
            "fe888c1e29d94c37b715142b6f13fa36",
            "3cd79d9778584d7b87c226b978cd9096",
            "c547df9c0a974508b63038b043a7f252",
            "afd58420568c451a9f5653f2f3d756ae",
            "f0b9d0dd07a641bba836b6b8ee9e429b",
            "25e19c7f09e443f68de76cd71e750a7c",
            "87ddf573cdc74bde92143d3b6333731f",
            "3d40f73c638544529233098508c91e3c",
            "b2d771c051864892b5ee9126f9093ea0",
            "2c26f3aa461f488ea6c201b076f91938",
            "4f13ab234dbd4bac9799084584d6fe59",
            "c3cf6438e9254d76b839188953260443",
            "7d1beec4674241a9af53544c253a52b9",
            "3b68f090fe284a698fcf700b49529f75",
            "c3ed866832de484286f2781f1a086b06",
            "e36e369e3c6e45aa9623c4ea39c22f9b",
            "79f3edb5cdd447a490718bead705cc60",
            "08fcc4671db342ed9d99c4ba2ac984d7",
            "7710fd613a584d24aee00fa171967057",
            "9fc37610f118454e90a490098abced43",
            "0773d99291684dd1a2926a7b5f0d504c"
          ]
        },
        "id": "IZ18JePWUgZd",
        "outputId": "c03c9f29-a0a1-4433-8e5a-6a25607db8ae"
      },
      "execution_count": 7,
      "outputs": [
        {
          "output_type": "stream",
          "name": "stdout",
          "text": [
            "Downloading http://yann.lecun.com/exdb/mnist/train-images-idx3-ubyte.gz\n",
            "Downloading http://yann.lecun.com/exdb/mnist/train-images-idx3-ubyte.gz to ./data/MNIST/raw/train-images-idx3-ubyte.gz\n"
          ]
        },
        {
          "output_type": "display_data",
          "data": {
            "text/plain": [
              "  0%|          | 0/9912422 [00:00<?, ?it/s]"
            ],
            "application/vnd.jupyter.widget-view+json": {
              "version_major": 2,
              "version_minor": 0,
              "model_id": "237cff41d21643d7a39e44e0a7f0f305"
            }
          },
          "metadata": {}
        },
        {
          "output_type": "stream",
          "name": "stdout",
          "text": [
            "Extracting ./data/MNIST/raw/train-images-idx3-ubyte.gz to ./data/MNIST/raw\n",
            "\n",
            "Downloading http://yann.lecun.com/exdb/mnist/train-labels-idx1-ubyte.gz\n",
            "Downloading http://yann.lecun.com/exdb/mnist/train-labels-idx1-ubyte.gz to ./data/MNIST/raw/train-labels-idx1-ubyte.gz\n"
          ]
        },
        {
          "output_type": "display_data",
          "data": {
            "text/plain": [
              "  0%|          | 0/28881 [00:00<?, ?it/s]"
            ],
            "application/vnd.jupyter.widget-view+json": {
              "version_major": 2,
              "version_minor": 0,
              "model_id": "ea5f7e239a144a04a85483df41fa623d"
            }
          },
          "metadata": {}
        },
        {
          "output_type": "stream",
          "name": "stdout",
          "text": [
            "Extracting ./data/MNIST/raw/train-labels-idx1-ubyte.gz to ./data/MNIST/raw\n",
            "\n",
            "Downloading http://yann.lecun.com/exdb/mnist/t10k-images-idx3-ubyte.gz\n",
            "Downloading http://yann.lecun.com/exdb/mnist/t10k-images-idx3-ubyte.gz to ./data/MNIST/raw/t10k-images-idx3-ubyte.gz\n"
          ]
        },
        {
          "output_type": "display_data",
          "data": {
            "text/plain": [
              "  0%|          | 0/1648877 [00:00<?, ?it/s]"
            ],
            "application/vnd.jupyter.widget-view+json": {
              "version_major": 2,
              "version_minor": 0,
              "model_id": "ea7794746c9b42b3bb1364b02e0f21d5"
            }
          },
          "metadata": {}
        },
        {
          "output_type": "stream",
          "name": "stdout",
          "text": [
            "Extracting ./data/MNIST/raw/t10k-images-idx3-ubyte.gz to ./data/MNIST/raw\n",
            "\n",
            "Downloading http://yann.lecun.com/exdb/mnist/t10k-labels-idx1-ubyte.gz\n",
            "Downloading http://yann.lecun.com/exdb/mnist/t10k-labels-idx1-ubyte.gz to ./data/MNIST/raw/t10k-labels-idx1-ubyte.gz\n"
          ]
        },
        {
          "output_type": "display_data",
          "data": {
            "text/plain": [
              "  0%|          | 0/4542 [00:00<?, ?it/s]"
            ],
            "application/vnd.jupyter.widget-view+json": {
              "version_major": 2,
              "version_minor": 0,
              "model_id": "4f13ab234dbd4bac9799084584d6fe59"
            }
          },
          "metadata": {}
        },
        {
          "output_type": "stream",
          "name": "stdout",
          "text": [
            "Extracting ./data/MNIST/raw/t10k-labels-idx1-ubyte.gz to ./data/MNIST/raw\n",
            "\n",
            "CUDA Available? True\n"
          ]
        }
      ]
    },
    {
      "cell_type": "code",
      "source": [
        "from visualizer.visualizer import DisplayData\n",
        "\n",
        "DisplayData (train_loader)"
      ],
      "metadata": {
        "colab": {
          "base_uri": "https://localhost:8080/",
          "height": 284
        },
        "id": "KL5WhLP4Xl0I",
        "outputId": "05c4467a-5f53-4552-ed25-f74a479418f6"
      },
      "execution_count": 8,
      "outputs": [
        {
          "output_type": "display_data",
          "data": {
            "text/plain": [
              "<Figure size 432x288 with 12 Axes>"
            ],
            "image/png": "[encoded data removed]"
          },
          "metadata": {}
        }
      ]
    },
    {
      "cell_type": "markdown",
      "source": [
        "### Group Normalization"
      ],
      "metadata": {
        "id": "OUyE3yfHXzzq"
      }
    },
    {
      "cell_type": "code",
      "source": [
        "from model.network import Normalization, Network, PrintSummary\n",
        "\n",
        "net = Network(pNormalization=Normalization.GroupNormalization)\n",
        "net.to(device)\n",
        "PrintSummary(net, (1, 28, 28))"
      ],
      "metadata": {
        "colab": {
          "base_uri": "https://localhost:8080/"
        },
        "id": "yF1Sh1STXuHI",
        "outputId": "59ac14cf-ad48-4ed2-9aa9-659d2bdb7415"
      },
      "execution_count": 9,
      "outputs": [
        {
          "output_type": "stream",
          "name": "stdout",
          "text": [
            "----------------------------------------------------------------\n",
            "        Layer (type)               Output Shape         Param #\n",
            "================================================================\n",
            "            Conv2d-1            [-1, 4, 26, 26]              36\n",
            "         GroupNorm-2            [-1, 4, 26, 26]               8\n",
            "              ReLU-3            [-1, 4, 26, 26]               0\n",
            "           Dropout-4            [-1, 4, 26, 26]               0\n",
            "            Conv2d-5            [-1, 8, 24, 24]             288\n",
            "         GroupNorm-6            [-1, 8, 24, 24]              16\n",
            "              ReLU-7            [-1, 8, 24, 24]               0\n",
            "           Dropout-8            [-1, 8, 24, 24]               0\n",
            "            Conv2d-9           [-1, 16, 22, 22]           1,152\n",
            "        GroupNorm-10           [-1, 16, 22, 22]              32\n",
            "             ReLU-11           [-1, 16, 22, 22]               0\n",
            "          Dropout-12           [-1, 16, 22, 22]               0\n",
            "           Conv2d-13           [-1, 16, 20, 20]           2,304\n",
            "        GroupNorm-14           [-1, 16, 20, 20]              32\n",
            "             ReLU-15           [-1, 16, 20, 20]               0\n",
            "          Dropout-16           [-1, 16, 20, 20]               0\n",
            "        MaxPool2d-17           [-1, 16, 10, 10]               0\n",
            "           Conv2d-18            [-1, 4, 10, 10]              64\n",
            "        GroupNorm-19            [-1, 4, 10, 10]               8\n",
            "             ReLU-20            [-1, 4, 10, 10]               0\n",
            "          Dropout-21            [-1, 4, 10, 10]               0\n",
            "           Conv2d-22              [-1, 8, 8, 8]             288\n",
            "        GroupNorm-23              [-1, 8, 8, 8]              16\n",
            "             ReLU-24              [-1, 8, 8, 8]               0\n",
            "          Dropout-25              [-1, 8, 8, 8]               0\n",
            "           Conv2d-26             [-1, 16, 6, 6]           1,152\n",
            "        GroupNorm-27             [-1, 16, 6, 6]              32\n",
            "             ReLU-28             [-1, 16, 6, 6]               0\n",
            "          Dropout-29             [-1, 16, 6, 6]               0\n",
            "           Conv2d-30             [-1, 16, 4, 4]           2,304\n",
            "        GroupNorm-31             [-1, 16, 4, 4]              32\n",
            "             ReLU-32             [-1, 16, 4, 4]               0\n",
            "          Dropout-33             [-1, 16, 4, 4]               0\n",
            "        AvgPool2d-34             [-1, 16, 1, 1]               0\n",
            "           Conv2d-35             [-1, 10, 1, 1]             160\n",
            "================================================================\n",
            "Total params: 7,924\n",
            "Trainable params: 7,924\n",
            "Non-trainable params: 0\n",
            "----------------------------------------------------------------\n",
            "Input size (MB): 0.00\n",
            "Forward/backward pass size (MB): 0.72\n",
            "Params size (MB): 0.03\n",
            "Estimated Total Size (MB): 0.75\n",
            "----------------------------------------------------------------\n",
            "None\n"
          ]
        }
      ]
    },
    {
      "cell_type": "code",
      "source": [
        "from model.trainer import TrainModel\n",
        "\n",
        "gn_training_data_dict = TrainModel(net, train_loader, test_loader, nn.NLLLoss, False, 10, 0.01)"
      ],
      "metadata": {
        "colab": {
          "base_uri": "https://localhost:8080/"
        },
        "id": "FEZbZu91Xn4Y",
        "outputId": "484b8400-dfef-487d-ee4e-406f230df639"
      },
      "execution_count": 10,
      "outputs": [
        {
          "output_type": "stream",
          "name": "stdout",
          "text": [
            "-------------- Epoch 1 --------------\n"
          ]
        },
        {
          "output_type": "stream",
          "name": "stderr",
          "text": [
            "Train: Loss=1.2574 Batch_id=117 Accuracy=48.04: 100%|██████████| 118/118 [00:38<00:00,  3.03it/s]\n"
          ]
        },
        {
          "output_type": "stream",
          "name": "stdout",
          "text": [
            "Test set: Average loss: 1.0675, Accuracy: 7705/10000 (77.05%)\n",
            "\n",
            "-------------- Epoch 2 --------------\n"
          ]
        },
        {
          "output_type": "stream",
          "name": "stderr",
          "text": [
            "Train: Loss=0.3991 Batch_id=117 Accuracy=83.60: 100%|██████████| 118/118 [00:39<00:00,  2.97it/s]\n"
          ]
        },
        {
          "output_type": "stream",
          "name": "stdout",
          "text": [
            "Test set: Average loss: 0.3388, Accuracy: 9276/10000 (92.76%)\n",
            "\n",
            "-------------- Epoch 3 --------------\n"
          ]
        },
        {
          "output_type": "stream",
          "name": "stderr",
          "text": [
            "Train: Loss=0.3066 Batch_id=117 Accuracy=93.43: 100%|██████████| 118/118 [00:38<00:00,  3.08it/s]\n"
          ]
        },
        {
          "output_type": "stream",
          "name": "stdout",
          "text": [
            "Test set: Average loss: 0.1720, Accuracy: 9597/10000 (95.97%)\n",
            "\n",
            "-------------- Epoch 4 --------------\n"
          ]
        },
        {
          "output_type": "stream",
          "name": "stderr",
          "text": [
            "Train: Loss=0.0988 Batch_id=117 Accuracy=95.68: 100%|██████████| 118/118 [00:38<00:00,  3.06it/s]\n"
          ]
        },
        {
          "output_type": "stream",
          "name": "stdout",
          "text": [
            "Test set: Average loss: 0.1165, Accuracy: 9700/10000 (97.00%)\n",
            "\n",
            "-------------- Epoch 5 --------------\n"
          ]
        },
        {
          "output_type": "stream",
          "name": "stderr",
          "text": [
            "Train: Loss=0.0867 Batch_id=117 Accuracy=96.38: 100%|██████████| 118/118 [00:38<00:00,  3.08it/s]\n"
          ]
        },
        {
          "output_type": "stream",
          "name": "stdout",
          "text": [
            "Test set: Average loss: 0.0828, Accuracy: 9794/10000 (97.94%)\n",
            "\n",
            "-------------- Epoch 6 --------------\n"
          ]
        },
        {
          "output_type": "stream",
          "name": "stderr",
          "text": [
            "Train: Loss=0.1811 Batch_id=117 Accuracy=96.80: 100%|██████████| 118/118 [00:38<00:00,  3.06it/s]\n"
          ]
        },
        {
          "output_type": "stream",
          "name": "stdout",
          "text": [
            "Test set: Average loss: 0.0730, Accuracy: 9817/10000 (98.17%)\n",
            "\n",
            "-------------- Epoch 7 --------------\n"
          ]
        },
        {
          "output_type": "stream",
          "name": "stderr",
          "text": [
            "Train: Loss=0.1013 Batch_id=117 Accuracy=97.16: 100%|██████████| 118/118 [00:38<00:00,  3.07it/s]\n"
          ]
        },
        {
          "output_type": "stream",
          "name": "stdout",
          "text": [
            "Test set: Average loss: 0.0573, Accuracy: 9847/10000 (98.47%)\n",
            "\n",
            "-------------- Epoch 8 --------------\n"
          ]
        },
        {
          "output_type": "stream",
          "name": "stderr",
          "text": [
            "Train: Loss=0.0938 Batch_id=117 Accuracy=97.56: 100%|██████████| 118/118 [00:38<00:00,  3.05it/s]\n"
          ]
        },
        {
          "output_type": "stream",
          "name": "stdout",
          "text": [
            "Test set: Average loss: 0.0542, Accuracy: 9867/10000 (98.67%)\n",
            "\n",
            "-------------- Epoch 9 --------------\n"
          ]
        },
        {
          "output_type": "stream",
          "name": "stderr",
          "text": [
            "Train: Loss=0.0655 Batch_id=117 Accuracy=97.61: 100%|██████████| 118/118 [00:39<00:00,  2.98it/s]\n"
          ]
        },
        {
          "output_type": "stream",
          "name": "stdout",
          "text": [
            "Test set: Average loss: 0.0513, Accuracy: 9869/10000 (98.69%)\n",
            "\n",
            "-------------- Epoch 10 --------------\n"
          ]
        },
        {
          "output_type": "stream",
          "name": "stderr",
          "text": [
            "Train: Loss=0.0430 Batch_id=117 Accuracy=97.75: 100%|██████████| 118/118 [00:39<00:00,  3.00it/s]\n"
          ]
        },
        {
          "output_type": "stream",
          "name": "stdout",
          "text": [
            "Test set: Average loss: 0.0481, Accuracy: 9865/10000 (98.65%)\n",
            "\n"
          ]
        }
      ]
    },
    {
      "cell_type": "markdown",
      "source": [
        "### Layer Normalization"
      ],
      "metadata": {
        "id": "jUbgumObYJ7X"
      }
    },
    {
      "cell_type": "code",
      "source": [
        "# Note: Layer Normalizaion is same as Group Normalization with 1 group. Hence, the summary will show Group Norm only.\n",
        "net = Network(pNormalization=Normalization.LayerNormalization)\n",
        "net.to(device)\n",
        "PrintSummary(net, (1, 28, 28))"
      ],
      "metadata": {
        "colab": {
          "base_uri": "https://localhost:8080/"
        },
        "id": "437GnIthYORB",
        "outputId": "8c691136-8271-4172-8486-3988abe26b1a"
      },
      "execution_count": 11,
      "outputs": [
        {
          "output_type": "stream",
          "name": "stdout",
          "text": [
            "----------------------------------------------------------------\n",
            "        Layer (type)               Output Shape         Param #\n",
            "================================================================\n",
            "            Conv2d-1            [-1, 4, 26, 26]              36\n",
            "         GroupNorm-2            [-1, 4, 26, 26]               8\n",
            "              ReLU-3            [-1, 4, 26, 26]               0\n",
            "           Dropout-4            [-1, 4, 26, 26]               0\n",
            "            Conv2d-5            [-1, 8, 24, 24]             288\n",
            "         GroupNorm-6            [-1, 8, 24, 24]              16\n",
            "              ReLU-7            [-1, 8, 24, 24]               0\n",
            "           Dropout-8            [-1, 8, 24, 24]               0\n",
            "            Conv2d-9           [-1, 16, 22, 22]           1,152\n",
            "        GroupNorm-10           [-1, 16, 22, 22]              32\n",
            "             ReLU-11           [-1, 16, 22, 22]               0\n",
            "          Dropout-12           [-1, 16, 22, 22]               0\n",
            "           Conv2d-13           [-1, 16, 20, 20]           2,304\n",
            "        GroupNorm-14           [-1, 16, 20, 20]              32\n",
            "             ReLU-15           [-1, 16, 20, 20]               0\n",
            "          Dropout-16           [-1, 16, 20, 20]               0\n",
            "        MaxPool2d-17           [-1, 16, 10, 10]               0\n",
            "           Conv2d-18            [-1, 4, 10, 10]              64\n",
            "        GroupNorm-19            [-1, 4, 10, 10]               8\n",
            "             ReLU-20            [-1, 4, 10, 10]               0\n",
            "          Dropout-21            [-1, 4, 10, 10]               0\n",
            "           Conv2d-22              [-1, 8, 8, 8]             288\n",
            "        GroupNorm-23              [-1, 8, 8, 8]              16\n",
            "             ReLU-24              [-1, 8, 8, 8]               0\n",
            "          Dropout-25              [-1, 8, 8, 8]               0\n",
            "           Conv2d-26             [-1, 16, 6, 6]           1,152\n",
            "        GroupNorm-27             [-1, 16, 6, 6]              32\n",
            "             ReLU-28             [-1, 16, 6, 6]               0\n",
            "          Dropout-29             [-1, 16, 6, 6]               0\n",
            "           Conv2d-30             [-1, 16, 4, 4]           2,304\n",
            "        GroupNorm-31             [-1, 16, 4, 4]              32\n",
            "             ReLU-32             [-1, 16, 4, 4]               0\n",
            "          Dropout-33             [-1, 16, 4, 4]               0\n",
            "        AvgPool2d-34             [-1, 16, 1, 1]               0\n",
            "           Conv2d-35             [-1, 10, 1, 1]             160\n",
            "================================================================\n",
            "Total params: 7,924\n",
            "Trainable params: 7,924\n",
            "Non-trainable params: 0\n",
            "----------------------------------------------------------------\n",
            "Input size (MB): 0.00\n",
            "Forward/backward pass size (MB): 0.72\n",
            "Params size (MB): 0.03\n",
            "Estimated Total Size (MB): 0.75\n",
            "----------------------------------------------------------------\n",
            "None\n"
          ]
        }
      ]
    },
    {
      "cell_type": "code",
      "source": [
        "ln_training_data_dict = TrainModel(net, train_loader, test_loader, nn.NLLLoss, False, 10, 0.01)"
      ],
      "metadata": {
        "colab": {
          "base_uri": "https://localhost:8080/"
        },
        "id": "K-n1EVSLYPft",
        "outputId": "ba2b138d-433a-4e4f-dc73-35f58c802336"
      },
      "execution_count": 12,
      "outputs": [
        {
          "output_type": "stream",
          "name": "stdout",
          "text": [
            "-------------- Epoch 1 --------------\n"
          ]
        },
        {
          "output_type": "stream",
          "name": "stderr",
          "text": [
            "Train: Loss=0.9209 Batch_id=117 Accuracy=55.05: 100%|██████████| 118/118 [00:39<00:00,  2.98it/s]\n"
          ]
        },
        {
          "output_type": "stream",
          "name": "stdout",
          "text": [
            "Test set: Average loss: 0.9473, Accuracy: 7755/10000 (77.55%)\n",
            "\n",
            "-------------- Epoch 2 --------------\n"
          ]
        },
        {
          "output_type": "stream",
          "name": "stderr",
          "text": [
            "Train: Loss=0.3329 Batch_id=117 Accuracy=86.86: 100%|██████████| 118/118 [00:39<00:00,  3.01it/s]\n"
          ]
        },
        {
          "output_type": "stream",
          "name": "stdout",
          "text": [
            "Test set: Average loss: 0.2477, Accuracy: 9462/10000 (94.62%)\n",
            "\n",
            "-------------- Epoch 3 --------------\n"
          ]
        },
        {
          "output_type": "stream",
          "name": "stderr",
          "text": [
            "Train: Loss=0.2753 Batch_id=117 Accuracy=93.67: 100%|██████████| 118/118 [00:38<00:00,  3.05it/s]\n"
          ]
        },
        {
          "output_type": "stream",
          "name": "stdout",
          "text": [
            "Test set: Average loss: 0.1764, Accuracy: 9544/10000 (95.44%)\n",
            "\n",
            "-------------- Epoch 4 --------------\n"
          ]
        },
        {
          "output_type": "stream",
          "name": "stderr",
          "text": [
            "Train: Loss=0.1435 Batch_id=117 Accuracy=95.23: 100%|██████████| 118/118 [00:38<00:00,  3.03it/s]\n"
          ]
        },
        {
          "output_type": "stream",
          "name": "stdout",
          "text": [
            "Test set: Average loss: 0.0917, Accuracy: 9760/10000 (97.60%)\n",
            "\n",
            "-------------- Epoch 5 --------------\n"
          ]
        },
        {
          "output_type": "stream",
          "name": "stderr",
          "text": [
            "Train: Loss=0.1509 Batch_id=117 Accuracy=95.80: 100%|██████████| 118/118 [00:38<00:00,  3.05it/s]\n"
          ]
        },
        {
          "output_type": "stream",
          "name": "stdout",
          "text": [
            "Test set: Average loss: 0.0884, Accuracy: 9749/10000 (97.49%)\n",
            "\n",
            "-------------- Epoch 6 --------------\n"
          ]
        },
        {
          "output_type": "stream",
          "name": "stderr",
          "text": [
            "Train: Loss=0.0670 Batch_id=117 Accuracy=96.60: 100%|██████████| 118/118 [00:38<00:00,  3.03it/s]\n"
          ]
        },
        {
          "output_type": "stream",
          "name": "stdout",
          "text": [
            "Test set: Average loss: 0.0764, Accuracy: 9783/10000 (97.83%)\n",
            "\n",
            "-------------- Epoch 7 --------------\n"
          ]
        },
        {
          "output_type": "stream",
          "name": "stderr",
          "text": [
            "Train: Loss=0.1085 Batch_id=117 Accuracy=96.93: 100%|██████████| 118/118 [00:38<00:00,  3.07it/s]\n"
          ]
        },
        {
          "output_type": "stream",
          "name": "stdout",
          "text": [
            "Test set: Average loss: 0.0702, Accuracy: 9790/10000 (97.90%)\n",
            "\n",
            "-------------- Epoch 8 --------------\n"
          ]
        },
        {
          "output_type": "stream",
          "name": "stderr",
          "text": [
            "Train: Loss=0.0704 Batch_id=117 Accuracy=97.29: 100%|██████████| 118/118 [00:38<00:00,  3.05it/s]\n"
          ]
        },
        {
          "output_type": "stream",
          "name": "stdout",
          "text": [
            "Test set: Average loss: 0.0612, Accuracy: 9825/10000 (98.25%)\n",
            "\n",
            "-------------- Epoch 9 --------------\n"
          ]
        },
        {
          "output_type": "stream",
          "name": "stderr",
          "text": [
            "Train: Loss=0.0854 Batch_id=117 Accuracy=97.51: 100%|██████████| 118/118 [00:38<00:00,  3.07it/s]\n"
          ]
        },
        {
          "output_type": "stream",
          "name": "stdout",
          "text": [
            "Test set: Average loss: 0.0491, Accuracy: 9862/10000 (98.62%)\n",
            "\n",
            "-------------- Epoch 10 --------------\n"
          ]
        },
        {
          "output_type": "stream",
          "name": "stderr",
          "text": [
            "Train: Loss=0.0481 Batch_id=117 Accuracy=97.64: 100%|██████████| 118/118 [00:38<00:00,  3.04it/s]\n"
          ]
        },
        {
          "output_type": "stream",
          "name": "stdout",
          "text": [
            "Test set: Average loss: 0.0519, Accuracy: 9850/10000 (98.50%)\n",
            "\n"
          ]
        }
      ]
    },
    {
      "cell_type": "markdown",
      "source": [
        "### Batch Normalization with L1"
      ],
      "metadata": {
        "id": "YglSr3gkYwQe"
      }
    },
    {
      "cell_type": "code",
      "source": [
        "net = Network(pNormalization=Normalization.BatchNormalization)\n",
        "net.to(device)\n",
        "PrintSummary(net, (1, 28, 28))"
      ],
      "metadata": {
        "colab": {
          "base_uri": "https://localhost:8080/"
        },
        "id": "0BbBTPqDYwh_",
        "outputId": "cf0bb384-25ec-4134-e2fb-8889777f7797"
      },
      "execution_count": 13,
      "outputs": [
        {
          "output_type": "stream",
          "name": "stdout",
          "text": [
            "----------------------------------------------------------------\n",
            "        Layer (type)               Output Shape         Param #\n",
            "================================================================\n",
            "            Conv2d-1            [-1, 4, 26, 26]              36\n",
            "       BatchNorm2d-2            [-1, 4, 26, 26]               8\n",
            "              ReLU-3            [-1, 4, 26, 26]               0\n",
            "           Dropout-4            [-1, 4, 26, 26]               0\n",
            "            Conv2d-5            [-1, 8, 24, 24]             288\n",
            "       BatchNorm2d-6            [-1, 8, 24, 24]              16\n",
            "              ReLU-7            [-1, 8, 24, 24]               0\n",
            "           Dropout-8            [-1, 8, 24, 24]               0\n",
            "            Conv2d-9           [-1, 16, 22, 22]           1,152\n",
            "      BatchNorm2d-10           [-1, 16, 22, 22]              32\n",
            "             ReLU-11           [-1, 16, 22, 22]               0\n",
            "          Dropout-12           [-1, 16, 22, 22]               0\n",
            "           Conv2d-13           [-1, 16, 20, 20]           2,304\n",
            "      BatchNorm2d-14           [-1, 16, 20, 20]              32\n",
            "             ReLU-15           [-1, 16, 20, 20]               0\n",
            "          Dropout-16           [-1, 16, 20, 20]               0\n",
            "        MaxPool2d-17           [-1, 16, 10, 10]               0\n",
            "           Conv2d-18            [-1, 4, 10, 10]              64\n",
            "      BatchNorm2d-19            [-1, 4, 10, 10]               8\n",
            "             ReLU-20            [-1, 4, 10, 10]               0\n",
            "          Dropout-21            [-1, 4, 10, 10]               0\n",
            "           Conv2d-22              [-1, 8, 8, 8]             288\n",
            "      BatchNorm2d-23              [-1, 8, 8, 8]              16\n",
            "             ReLU-24              [-1, 8, 8, 8]               0\n",
            "          Dropout-25              [-1, 8, 8, 8]               0\n",
            "           Conv2d-26             [-1, 16, 6, 6]           1,152\n",
            "      BatchNorm2d-27             [-1, 16, 6, 6]              32\n",
            "             ReLU-28             [-1, 16, 6, 6]               0\n",
            "          Dropout-29             [-1, 16, 6, 6]               0\n",
            "           Conv2d-30             [-1, 16, 4, 4]           2,304\n",
            "      BatchNorm2d-31             [-1, 16, 4, 4]              32\n",
            "             ReLU-32             [-1, 16, 4, 4]               0\n",
            "          Dropout-33             [-1, 16, 4, 4]               0\n",
            "        AvgPool2d-34             [-1, 16, 1, 1]               0\n",
            "           Conv2d-35             [-1, 10, 1, 1]             160\n",
            "================================================================\n",
            "Total params: 7,924\n",
            "Trainable params: 7,924\n",
            "Non-trainable params: 0\n",
            "----------------------------------------------------------------\n",
            "Input size (MB): 0.00\n",
            "Forward/backward pass size (MB): 0.72\n",
            "Params size (MB): 0.03\n",
            "Estimated Total Size (MB): 0.75\n",
            "----------------------------------------------------------------\n",
            "None\n"
          ]
        }
      ]
    },
    {
      "cell_type": "code",
      "source": [
        "# TODO: L1 has to be added to loss\n",
        "bn_training_data_dict = TrainModel(net, train_loader, test_loader, nn.NLLLoss, True, 10, 0.01)"
      ],
      "metadata": {
        "colab": {
          "base_uri": "https://localhost:8080/"
        },
        "id": "2q_cVtlTYzmy",
        "outputId": "7c5fca30-9ff2-42b0-fff6-4ea528c88f94"
      },
      "execution_count": 14,
      "outputs": [
        {
          "output_type": "stream",
          "name": "stdout",
          "text": [
            "-------------- Epoch 1 --------------\n"
          ]
        },
        {
          "output_type": "stream",
          "name": "stderr",
          "text": [
            "Train: Loss=1.3197 Batch_id=117 Accuracy=50.67: 100%|██████████| 118/118 [00:41<00:00,  2.87it/s]\n"
          ]
        },
        {
          "output_type": "stream",
          "name": "stdout",
          "text": [
            "Test set: Average loss: 0.8927, Accuracy: 7920/10000 (79.20%)\n",
            "\n",
            "-------------- Epoch 2 --------------\n"
          ]
        },
        {
          "output_type": "stream",
          "name": "stderr",
          "text": [
            "Train: Loss=0.6804 Batch_id=117 Accuracy=91.47: 100%|██████████| 118/118 [00:42<00:00,  2.80it/s]\n"
          ]
        },
        {
          "output_type": "stream",
          "name": "stdout",
          "text": [
            "Test set: Average loss: 0.2114, Accuracy: 9600/10000 (96.00%)\n",
            "\n",
            "-------------- Epoch 3 --------------\n"
          ]
        },
        {
          "output_type": "stream",
          "name": "stderr",
          "text": [
            "Train: Loss=0.4672 Batch_id=117 Accuracy=96.05: 100%|██████████| 118/118 [00:41<00:00,  2.84it/s]\n"
          ]
        },
        {
          "output_type": "stream",
          "name": "stdout",
          "text": [
            "Test set: Average loss: 0.1020, Accuracy: 9797/10000 (97.97%)\n",
            "\n",
            "-------------- Epoch 4 --------------\n"
          ]
        },
        {
          "output_type": "stream",
          "name": "stderr",
          "text": [
            "Train: Loss=0.4077 Batch_id=117 Accuracy=97.01: 100%|██████████| 118/118 [00:41<00:00,  2.85it/s]\n"
          ]
        },
        {
          "output_type": "stream",
          "name": "stdout",
          "text": [
            "Test set: Average loss: 0.0987, Accuracy: 9773/10000 (97.73%)\n",
            "\n",
            "-------------- Epoch 5 --------------\n"
          ]
        },
        {
          "output_type": "stream",
          "name": "stderr",
          "text": [
            "Train: Loss=0.3930 Batch_id=117 Accuracy=97.31: 100%|██████████| 118/118 [00:41<00:00,  2.86it/s]\n"
          ]
        },
        {
          "output_type": "stream",
          "name": "stdout",
          "text": [
            "Test set: Average loss: 0.0667, Accuracy: 9823/10000 (98.23%)\n",
            "\n",
            "-------------- Epoch 6 --------------\n"
          ]
        },
        {
          "output_type": "stream",
          "name": "stderr",
          "text": [
            "Train: Loss=0.3732 Batch_id=117 Accuracy=97.40: 100%|██████████| 118/118 [00:41<00:00,  2.84it/s]\n"
          ]
        },
        {
          "output_type": "stream",
          "name": "stdout",
          "text": [
            "Test set: Average loss: 0.0864, Accuracy: 9767/10000 (97.67%)\n",
            "\n",
            "-------------- Epoch 7 --------------\n"
          ]
        },
        {
          "output_type": "stream",
          "name": "stderr",
          "text": [
            "Train: Loss=0.3069 Batch_id=117 Accuracy=97.56: 100%|██████████| 118/118 [00:41<00:00,  2.83it/s]\n"
          ]
        },
        {
          "output_type": "stream",
          "name": "stdout",
          "text": [
            "Test set: Average loss: 0.0996, Accuracy: 9729/10000 (97.29%)\n",
            "\n",
            "-------------- Epoch 8 --------------\n"
          ]
        },
        {
          "output_type": "stream",
          "name": "stderr",
          "text": [
            "Train: Loss=0.3661 Batch_id=117 Accuracy=97.50: 100%|██████████| 118/118 [00:41<00:00,  2.84it/s]\n"
          ]
        },
        {
          "output_type": "stream",
          "name": "stdout",
          "text": [
            "Test set: Average loss: 0.0735, Accuracy: 9817/10000 (98.17%)\n",
            "\n",
            "-------------- Epoch 9 --------------\n"
          ]
        },
        {
          "output_type": "stream",
          "name": "stderr",
          "text": [
            "Train: Loss=0.3559 Batch_id=117 Accuracy=97.69: 100%|██████████| 118/118 [00:41<00:00,  2.87it/s]\n"
          ]
        },
        {
          "output_type": "stream",
          "name": "stdout",
          "text": [
            "Test set: Average loss: 0.0722, Accuracy: 9793/10000 (97.93%)\n",
            "\n",
            "-------------- Epoch 10 --------------\n"
          ]
        },
        {
          "output_type": "stream",
          "name": "stderr",
          "text": [
            "Train: Loss=0.3053 Batch_id=117 Accuracy=97.79: 100%|██████████| 118/118 [00:41<00:00,  2.82it/s]\n"
          ]
        },
        {
          "output_type": "stream",
          "name": "stdout",
          "text": [
            "Test set: Average loss: 0.0859, Accuracy: 9799/10000 (97.99%)\n",
            "\n"
          ]
        }
      ]
    },
    {
      "cell_type": "markdown",
      "source": [
        "### Misclassified images (from Test set)"
      ],
      "metadata": {
        "id": "K7tM1oZngfhg"
      }
    },
    {
      "cell_type": "code",
      "source": [
        "from visualizer.visualizer import DisplayIncorrectPredictions"
      ],
      "metadata": {
        "id": "1BDoAGdgg1wb"
      },
      "execution_count": 15,
      "outputs": []
    },
    {
      "cell_type": "code",
      "source": [
        "# From model with Group Normalization\n",
        "DisplayIncorrectPredictions (gn_training_data_dict['incorrect_pred'])"
      ],
      "metadata": {
        "colab": {
          "base_uri": "https://localhost:8080/",
          "height": 0
        },
        "id": "2fyLmgfageo1",
        "outputId": "b93d9c5b-9d86-45af-dca4-3f5ac2b8617a"
      },
      "execution_count": 16,
      "outputs": [
        {
          "output_type": "display_data",
          "data": {
            "text/plain": [
              "<Figure size 144x360 with 10 Axes>"
            ],
            "image/png": "[encoded data removed]"
          },
          "metadata": {}
        }
      ]
    },
    {
      "cell_type": "code",
      "source": [
        "# From model with Layer Normalization\n",
        "DisplayIncorrectPredictions (ln_training_data_dict['incorrect_pred'])"
      ],
      "metadata": {
        "colab": {
          "base_uri": "https://localhost:8080/",
          "height": 0
        },
        "id": "yv4AQT1Ego20",
        "outputId": "6f4fcc48-77a1-4c5b-eb25-df8feb49cd64"
      },
      "execution_count": 17,
      "outputs": [
        {
          "output_type": "display_data",
          "data": {
            "text/plain": [
              "<Figure size 144x360 with 10 Axes>"
            ],
            "image/png": "[encoded data removed]"
          },
          "metadata": {}
        }
      ]
    },
    {
      "cell_type": "code",
      "source": [
        "# From model with Batch Normalization\n",
        "DisplayIncorrectPredictions (bn_training_data_dict['incorrect_pred'])"
      ],
      "metadata": {
        "colab": {
          "base_uri": "https://localhost:8080/",
          "height": 0
        },
        "id": "F_YFKkh-gpR8",
        "outputId": "890d1933-79a1-4b96-86a6-323b744ff630"
      },
      "execution_count": 18,
      "outputs": [
        {
          "output_type": "display_data",
          "data": {
            "text/plain": [
              "<Figure size 144x360 with 10 Axes>"
            ],
            "image/png": "[encoded data removed]"
          },
          "metadata": {}
        }
      ]
    },
    {
      "cell_type": "markdown",
      "source": [
        "### Loss/Accuracy graphs"
      ],
      "metadata": {
        "id": "5qvQjH_bhFDp"
      }
    },
    {
      "cell_type": "code",
      "source": [
        "import matplotlib.pyplot as plt"
      ],
      "metadata": {
        "id": "MGUU1Xh9j_jj"
      },
      "execution_count": 19,
      "outputs": []
    },
    {
      "cell_type": "code",
      "source": [
        "fig, axs = plt.subplots(1, 2, figsize=(10, 5))\n",
        "\n",
        "# Train losses\n",
        "axs[0].plot(gn_training_data_dict['train_loss'], label='Group Norm.')\n",
        "axs[0].plot(ln_training_data_dict['train_loss'], label='Layer Norm.')\n",
        "axs[0].plot(bn_training_data_dict['train_loss'], label='Batch Norm.')\n",
        "axs[0].set_title(\"Training loss curves\")\n",
        "\n",
        "# Test losses\n",
        "axs[1].plot(gn_training_data_dict['test_loss'], label='Group Norm.')\n",
        "axs[1].plot(ln_training_data_dict['test_loss'], label='Layer Norm.')\n",
        "axs[1].plot(bn_training_data_dict['test_loss'], label='Batch Norm.')\n",
        "axs[1].set_title(\"Test loss curves\")\n",
        "\n",
        "plt.legend()"
      ],
      "metadata": {
        "colab": {
          "base_uri": "https://localhost:8080/",
          "height": 353
        },
        "id": "GIm3BLiyhDZO",
        "outputId": "ee574973-d098-4ca0-e75b-b9ee80a31490"
      },
      "execution_count": 20,
      "outputs": [
        {
          "output_type": "execute_result",
          "data": {
            "text/plain": [
              "<matplotlib.legend.Legend at 0x7f12aa2e14c0>"
            ]
          },
          "metadata": {},
          "execution_count": 20
        },
        {
          "output_type": "display_data",
          "data": {
            "text/plain": [
              "<Figure size 720x360 with 2 Axes>"
            ],
            "image/png": "[encoded data removed]"
          },
          "metadata": {
            "needs_background": "light"
          }
        }
      ]
    },
    {
      "cell_type": "code",
      "source": [
        "fig, axs = plt.subplots(1, 2, figsize=(10, 5))\n",
        "\n",
        "# Train Accuracies\n",
        "axs[0].plot(gn_training_data_dict['train_acc'], label='Group Norm.')\n",
        "axs[0].plot(ln_training_data_dict['train_acc'], label='Layer Norm.')\n",
        "axs[0].plot(bn_training_data_dict['train_acc'], label='Batch Norm.')\n",
        "axs[0].set_title(\"Training acc. curves\")\n",
        "\n",
        "# Test Accuracies\n",
        "axs[1].plot(gn_training_data_dict['test_acc'], label='Group Norm.')\n",
        "axs[1].plot(ln_training_data_dict['test_acc'], label='Layer Norm.')\n",
        "axs[1].plot(bn_training_data_dict['test_acc'], label='Batch Norm.')\n",
        "axs[1].set_title(\"Test acc. curves\")\n",
        "\n",
        "plt.legend()"
      ],
      "metadata": {
        "colab": {
          "base_uri": "https://localhost:8080/",
          "height": 353
        },
        "id": "AK9COawNkHdR",
        "outputId": "6622a3a2-a935-488c-b812-038005027cee"
      },
      "execution_count": 21,
      "outputs": [
        {
          "output_type": "execute_result",
          "data": {
            "text/plain": [
              "<matplotlib.legend.Legend at 0x7f12afe8c910>"
            ]
          },
          "metadata": {},
          "execution_count": 21
        },
        {
          "output_type": "display_data",
          "data": {
            "text/plain": [
              "<Figure size 720x360 with 2 Axes>"
            ],
            "image/png": "[encoded data removed]"
          },
          "metadata": {
            "needs_background": "light"
          }
        }
      ]
    }
  ]
}