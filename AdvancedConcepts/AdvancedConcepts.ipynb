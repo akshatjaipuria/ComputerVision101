{
  "nbformat": 4,
  "nbformat_minor": 0,
  "metadata": {
    "colab": {
      "provenance": []
    },
    "kernelspec": {
      "name": "python3",
      "display_name": "Python 3"
    },
    "language_info": {
      "name": "python"
    },
    "accelerator": "GPU",
    "gpuClass": "standard",
    "widgets": {
      "application/vnd.jupyter.widget-state+json": {
        "fef0c77de33946bc93025726a43a6b0b": {
          "model_module": "@jupyter-widgets/controls",
          "model_name": "HBoxModel",
          "model_module_version": "1.5.0",
          "state": {
            "_dom_classes": [],
            "_model_module": "@jupyter-widgets/controls",
            "_model_module_version": "1.5.0",
            "_model_name": "HBoxModel",
            "_view_count": null,
            "_view_module": "@jupyter-widgets/controls",
            "_view_module_version": "1.5.0",
            "_view_name": "HBoxView",
            "box_style": "",
            "children": [
              "IPY_MODEL_7b736d3c831b47fb85876efe614e8fc1",
              "IPY_MODEL_d16672c823314df7a08b740b162ae178",
              "IPY_MODEL_4785cce5066b46e3b308761a30010e40"
            ],
            "layout": "IPY_MODEL_0f9303d033654654977b62848fb047ff"
          }
        },
        "7b736d3c831b47fb85876efe614e8fc1": {
          "model_module": "@jupyter-widgets/controls",
          "model_name": "HTMLModel",
          "model_module_version": "1.5.0",
          "state": {
            "_dom_classes": [],
            "_model_module": "@jupyter-widgets/controls",
            "_model_module_version": "1.5.0",
            "_model_name": "HTMLModel",
            "_view_count": null,
            "_view_module": "@jupyter-widgets/controls",
            "_view_module_version": "1.5.0",
            "_view_name": "HTMLView",
            "description": "",
            "description_tooltip": null,
            "layout": "IPY_MODEL_7f7bb84f45ee439bb95f306f74a9b3e2",
            "placeholder": "​",
            "style": "IPY_MODEL_5bf210b5639646c5982b354ac84ec117",
            "value": "100%"
          }
        },
        "d16672c823314df7a08b740b162ae178": {
          "model_module": "@jupyter-widgets/controls",
          "model_name": "FloatProgressModel",
          "model_module_version": "1.5.0",
          "state": {
            "_dom_classes": [],
            "_model_module": "@jupyter-widgets/controls",
            "_model_module_version": "1.5.0",
            "_model_name": "FloatProgressModel",
            "_view_count": null,
            "_view_module": "@jupyter-widgets/controls",
            "_view_module_version": "1.5.0",
            "_view_name": "ProgressView",
            "bar_style": "success",
            "description": "",
            "description_tooltip": null,
            "layout": "IPY_MODEL_e097f5df7d6d4d1a85e9d926ef3aa731",
            "max": 170498071,
            "min": 0,
            "orientation": "horizontal",
            "style": "IPY_MODEL_41edc6baca644510b579cab4c0e76f59",
            "value": 170498071
          }
        },
        "4785cce5066b46e3b308761a30010e40": {
          "model_module": "@jupyter-widgets/controls",
          "model_name": "HTMLModel",
          "model_module_version": "1.5.0",
          "state": {
            "_dom_classes": [],
            "_model_module": "@jupyter-widgets/controls",
            "_model_module_version": "1.5.0",
            "_model_name": "HTMLModel",
            "_view_count": null,
            "_view_module": "@jupyter-widgets/controls",
            "_view_module_version": "1.5.0",
            "_view_name": "HTMLView",
            "description": "",
            "description_tooltip": null,
            "layout": "IPY_MODEL_306d22b3116f4019acf8643c4d104001",
            "placeholder": "​",
            "style": "IPY_MODEL_bda919629b8b4f41b2927aeb85a80778",
            "value": " 170498071/170498071 [00:05&lt;00:00, 32302512.01it/s]"
          }
        },
        "0f9303d033654654977b62848fb047ff": {
          "model_module": "@jupyter-widgets/base",
          "model_name": "LayoutModel",
          "model_module_version": "1.2.0",
          "state": {
            "_model_module": "@jupyter-widgets/base",
            "_model_module_version": "1.2.0",
            "_model_name": "LayoutModel",
            "_view_count": null,
            "_view_module": "@jupyter-widgets/base",
            "_view_module_version": "1.2.0",
            "_view_name": "LayoutView",
            "align_content": null,
            "align_items": null,
            "align_self": null,
            "border": null,
            "bottom": null,
            "display": null,
            "flex": null,
            "flex_flow": null,
            "grid_area": null,
            "grid_auto_columns": null,
            "grid_auto_flow": null,
            "grid_auto_rows": null,
            "grid_column": null,
            "grid_gap": null,
            "grid_row": null,
            "grid_template_areas": null,
            "grid_template_columns": null,
            "grid_template_rows": null,
            "height": null,
            "justify_content": null,
            "justify_items": null,
            "left": null,
            "margin": null,
            "max_height": null,
            "max_width": null,
            "min_height": null,
            "min_width": null,
            "object_fit": null,
            "object_position": null,
            "order": null,
            "overflow": null,
            "overflow_x": null,
            "overflow_y": null,
            "padding": null,
            "right": null,
            "top": null,
            "visibility": null,
            "width": null
          }
        },
        "7f7bb84f45ee439bb95f306f74a9b3e2": {
          "model_module": "@jupyter-widgets/base",
          "model_name": "LayoutModel",
          "model_module_version": "1.2.0",
          "state": {
            "_model_module": "@jupyter-widgets/base",
            "_model_module_version": "1.2.0",
            "_model_name": "LayoutModel",
            "_view_count": null,
            "_view_module": "@jupyter-widgets/base",
            "_view_module_version": "1.2.0",
            "_view_name": "LayoutView",
            "align_content": null,
            "align_items": null,
            "align_self": null,
            "border": null,
            "bottom": null,
            "display": null,
            "flex": null,
            "flex_flow": null,
            "grid_area": null,
            "grid_auto_columns": null,
            "grid_auto_flow": null,
            "grid_auto_rows": null,
            "grid_column": null,
            "grid_gap": null,
            "grid_row": null,
            "grid_template_areas": null,
            "grid_template_columns": null,
            "grid_template_rows": null,
            "height": null,
            "justify_content": null,
            "justify_items": null,
            "left": null,
            "margin": null,
            "max_height": null,
            "max_width": null,
            "min_height": null,
            "min_width": null,
            "object_fit": null,
            "object_position": null,
            "order": null,
            "overflow": null,
            "overflow_x": null,
            "overflow_y": null,
            "padding": null,
            "right": null,
            "top": null,
            "visibility": null,
            "width": null
          }
        },
        "5bf210b5639646c5982b354ac84ec117": {
          "model_module": "@jupyter-widgets/controls",
          "model_name": "DescriptionStyleModel",
          "model_module_version": "1.5.0",
          "state": {
            "_model_module": "@jupyter-widgets/controls",
            "_model_module_version": "1.5.0",
            "_model_name": "DescriptionStyleModel",
            "_view_count": null,
            "_view_module": "@jupyter-widgets/base",
            "_view_module_version": "1.2.0",
            "_view_name": "StyleView",
            "description_width": ""
          }
        },
        "e097f5df7d6d4d1a85e9d926ef3aa731": {
          "model_module": "@jupyter-widgets/base",
          "model_name": "LayoutModel",
          "model_module_version": "1.2.0",
          "state": {
            "_model_module": "@jupyter-widgets/base",
            "_model_module_version": "1.2.0",
            "_model_name": "LayoutModel",
            "_view_count": null,
            "_view_module": "@jupyter-widgets/base",
            "_view_module_version": "1.2.0",
            "_view_name": "LayoutView",
            "align_content": null,
            "align_items": null,
            "align_self": null,
            "border": null,
            "bottom": null,
            "display": null,
            "flex": null,
            "flex_flow": null,
            "grid_area": null,
            "grid_auto_columns": null,
            "grid_auto_flow": null,
            "grid_auto_rows": null,
            "grid_column": null,
            "grid_gap": null,
            "grid_row": null,
            "grid_template_areas": null,
            "grid_template_columns": null,
            "grid_template_rows": null,
            "height": null,
            "justify_content": null,
            "justify_items": null,
            "left": null,
            "margin": null,
            "max_height": null,
            "max_width": null,
            "min_height": null,
            "min_width": null,
            "object_fit": null,
            "object_position": null,
            "order": null,
            "overflow": null,
            "overflow_x": null,
            "overflow_y": null,
            "padding": null,
            "right": null,
            "top": null,
            "visibility": null,
            "width": null
          }
        },
        "41edc6baca644510b579cab4c0e76f59": {
          "model_module": "@jupyter-widgets/controls",
          "model_name": "ProgressStyleModel",
          "model_module_version": "1.5.0",
          "state": {
            "_model_module": "@jupyter-widgets/controls",
            "_model_module_version": "1.5.0",
            "_model_name": "ProgressStyleModel",
            "_view_count": null,
            "_view_module": "@jupyter-widgets/base",
            "_view_module_version": "1.2.0",
            "_view_name": "StyleView",
            "bar_color": null,
            "description_width": ""
          }
        },
        "306d22b3116f4019acf8643c4d104001": {
          "model_module": "@jupyter-widgets/base",
          "model_name": "LayoutModel",
          "model_module_version": "1.2.0",
          "state": {
            "_model_module": "@jupyter-widgets/base",
            "_model_module_version": "1.2.0",
            "_model_name": "LayoutModel",
            "_view_count": null,
            "_view_module": "@jupyter-widgets/base",
            "_view_module_version": "1.2.0",
            "_view_name": "LayoutView",
            "align_content": null,
            "align_items": null,
            "align_self": null,
            "border": null,
            "bottom": null,
            "display": null,
            "flex": null,
            "flex_flow": null,
            "grid_area": null,
            "grid_auto_columns": null,
            "grid_auto_flow": null,
            "grid_auto_rows": null,
            "grid_column": null,
            "grid_gap": null,
            "grid_row": null,
            "grid_template_areas": null,
            "grid_template_columns": null,
            "grid_template_rows": null,
            "height": null,
            "justify_content": null,
            "justify_items": null,
            "left": null,
            "margin": null,
            "max_height": null,
            "max_width": null,
            "min_height": null,
            "min_width": null,
            "object_fit": null,
            "object_position": null,
            "order": null,
            "overflow": null,
            "overflow_x": null,
            "overflow_y": null,
            "padding": null,
            "right": null,
            "top": null,
            "visibility": null,
            "width": null
          }
        },
        "bda919629b8b4f41b2927aeb85a80778": {
          "model_module": "@jupyter-widgets/controls",
          "model_name": "DescriptionStyleModel",
          "model_module_version": "1.5.0",
          "state": {
            "_model_module": "@jupyter-widgets/controls",
            "_model_module_version": "1.5.0",
            "_model_name": "DescriptionStyleModel",
            "_view_count": null,
            "_view_module": "@jupyter-widgets/base",
            "_view_module_version": "1.2.0",
            "_view_name": "StyleView",
            "description_width": ""
          }
        }
      }
    }
  },
  "cells": [
    {
      "cell_type": "markdown",
      "source": [
        "### Initial Setup"
      ],
      "metadata": {
        "id": "KWIAw9l9hVZl"
      }
    },
    {
      "cell_type": "code",
      "execution_count": 1,
      "metadata": {
        "colab": {
          "base_uri": "https://localhost:8080/"
        },
        "id": "dbmz65J_TjNN",
        "outputId": "19e2c8c4-7281-487b-e0f2-49b993293617"
      },
      "outputs": [
        {
          "output_type": "stream",
          "name": "stdout",
          "text": [
            "GPU 0: Tesla T4 (UUID: GPU-dce2afe3-5558-5395-f573-b0c0b2810275)\n"
          ]
        }
      ],
      "source": [
        "!nvidia-smi -L"
      ]
    },
    {
      "cell_type": "code",
      "source": [
        "!git clone \"https://github.com/akshatjaipuria/ComputerVision101.git\""
      ],
      "metadata": {
        "colab": {
          "base_uri": "https://localhost:8080/"
        },
        "id": "1nMJTRKITpqE",
        "outputId": "cca27b8d-0bec-4ef1-f03b-ea8640203023"
      },
      "execution_count": 2,
      "outputs": [
        {
          "output_type": "stream",
          "name": "stdout",
          "text": [
            "Cloning into 'ComputerVision101'...\n",
            "remote: Enumerating objects: 174, done.\u001b[K\n",
            "remote: Counting objects: 100% (174/174), done.\u001b[K\n",
            "remote: Compressing objects: 100% (129/129), done.\u001b[K\n",
            "remote: Total 174 (delta 59), reused 139 (delta 34), pack-reused 0\u001b[K\n",
            "Receiving objects: 100% (174/174), 2.36 MiB | 14.80 MiB/s, done.\n",
            "Resolving deltas: 100% (59/59), done.\n"
          ]
        }
      ]
    },
    {
      "cell_type": "code",
      "source": [
        "%cd '/content/ComputerVision101/AdvancedConcepts'"
      ],
      "metadata": {
        "colab": {
          "base_uri": "https://localhost:8080/"
        },
        "id": "04sR-ngqUM17",
        "outputId": "3605b0c5-cd5f-4d32-c3f2-007af49f9107"
      },
      "execution_count": 3,
      "outputs": [
        {
          "output_type": "stream",
          "name": "stdout",
          "text": [
            "/content/ComputerVision101/AdvancedConcepts\n"
          ]
        }
      ]
    },
    {
      "cell_type": "markdown",
      "source": [
        "### Dataloaders"
      ],
      "metadata": {
        "id": "eb3Lw64-hP87"
      }
    },
    {
      "cell_type": "code",
      "source": [
        "import torch\n",
        "import torch.nn as nn\n",
        "import torchvision\n",
        "import torchvision.transforms as transforms\n",
        "import albumentations as alb\n",
        "from albumentations.pytorch import ToTensorV2\n",
        "import numpy as np"
      ],
      "metadata": {
        "id": "KVK-tAcNUTRf"
      },
      "execution_count": 4,
      "outputs": []
    },
    {
      "cell_type": "code",
      "source": [
        "device = torch.device (\"cuda:0\" if torch.cuda.is_available () else \"cpu\")\n",
        "print (f\"Device: {device}\")"
      ],
      "metadata": {
        "colab": {
          "base_uri": "https://localhost:8080/"
        },
        "id": "SGaY5oAyUYZX",
        "outputId": "23db4531-06e4-432e-d4e5-39e5b02858aa"
      },
      "execution_count": 5,
      "outputs": [
        {
          "output_type": "stream",
          "name": "stdout",
          "text": [
            "Device: cuda:0\n"
          ]
        }
      ]
    },
    {
      "cell_type": "code",
      "source": [
        "# Mean and STD for CIFAR-10\n",
        "mean = (0.4914, 0.48216, 0.44653)\n",
        "std = (0.24703, 0.24349, 0.26159)"
      ],
      "metadata": {
        "id": "W76UHGeJ4Lid"
      },
      "execution_count": 6,
      "outputs": []
    },
    {
      "cell_type": "code",
      "source": [
        "class train_transforms:\n",
        "    def __init__(self):\n",
        "        self.train_transform = alb.Compose([\n",
        "            alb.Resize(32, 32, 3),\n",
        "            alb.HorizontalFlip(),\n",
        "            alb.ShiftScaleRotate(),\n",
        "            alb.CoarseDropout(max_holes=1, max_height=16, max_width=16, min_holes=1, min_height=16, min_width=16, fill_value=[i * 2555 for i in mean], mask_fill_value=None),\n",
        "            alb.Normalize(mean=mean, std=std),\n",
        "            ToTensorV2(),\n",
        "        ])\n",
        "\n",
        "    def __call__(self, img):\n",
        "        img = np.array(img)\n",
        "        img = self.train_transform(image=img)['image']\n",
        "        return img\n",
        "\n",
        "\n",
        "class test_transforms:\n",
        "    def __init__(self):\n",
        "        self.test_transform = alb.Compose([\n",
        "            alb.Resize(32, 32, 3),\n",
        "            alb.Normalize(mean=mean, std=std),\n",
        "            ToTensorV2(),\n",
        "        ])\n",
        "\n",
        "    def __call__(self, img):\n",
        "        img = np.array(img)\n",
        "        img = self.test_transform(image=img)['image']\n",
        "        return img"
      ],
      "metadata": {
        "id": "DyQVfJ_-bjYC"
      },
      "execution_count": 7,
      "outputs": []
    },
    {
      "cell_type": "code",
      "source": [
        "from data_loader.data_loader import GetDataLoaders\n",
        "\n",
        "train_loader, test_loader = GetDataLoaders(torchvision.datasets.CIFAR10, train_transforms(), test_transforms(), 512)\n",
        "classes = ('plane', 'car', 'bird', 'cat', 'deer', 'dog', 'frog', 'horse', 'ship', 'truck')"
      ],
      "metadata": {
        "colab": {
          "base_uri": "https://localhost:8080/",
          "height": 118,
          "referenced_widgets": [
            "fef0c77de33946bc93025726a43a6b0b",
            "7b736d3c831b47fb85876efe614e8fc1",
            "d16672c823314df7a08b740b162ae178",
            "4785cce5066b46e3b308761a30010e40",
            "0f9303d033654654977b62848fb047ff",
            "7f7bb84f45ee439bb95f306f74a9b3e2",
            "5bf210b5639646c5982b354ac84ec117",
            "e097f5df7d6d4d1a85e9d926ef3aa731",
            "41edc6baca644510b579cab4c0e76f59",
            "306d22b3116f4019acf8643c4d104001",
            "bda919629b8b4f41b2927aeb85a80778"
          ]
        },
        "id": "IZ18JePWUgZd",
        "outputId": "ca512547-0b6c-405b-c178-2f8c9491f8e1"
      },
      "execution_count": 8,
      "outputs": [
        {
          "output_type": "stream",
          "name": "stdout",
          "text": [
            "Downloading https://www.cs.toronto.edu/~kriz/cifar-10-python.tar.gz to ./data/cifar-10-python.tar.gz\n"
          ]
        },
        {
          "output_type": "display_data",
          "data": {
            "text/plain": [
              "  0%|          | 0/170498071 [00:00<?, ?it/s]"
            ],
            "application/vnd.jupyter.widget-view+json": {
              "version_major": 2,
              "version_minor": 0,
              "model_id": "fef0c77de33946bc93025726a43a6b0b"
            }
          },
          "metadata": {}
        },
        {
          "output_type": "stream",
          "name": "stdout",
          "text": [
            "Extracting ./data/cifar-10-python.tar.gz to ./data\n",
            "Files already downloaded and verified\n",
            "CUDA Available? True\n"
          ]
        }
      ]
    },
    {
      "cell_type": "code",
      "source": [
        "from visualizer.visualizer import DisplayData"
      ],
      "metadata": {
        "id": "PhAhrfUufN6m"
      },
      "execution_count": 9,
      "outputs": []
    },
    {
      "cell_type": "code",
      "source": [
        "DisplayData (train_loader, classes, [mean, std])"
      ],
      "metadata": {
        "colab": {
          "base_uri": "https://localhost:8080/",
          "height": 336
        },
        "id": "KL5WhLP4Xl0I",
        "outputId": "879afe89-0384-4f9c-8cfc-925f5a400228"
      },
      "execution_count": 10,
      "outputs": [
        {
          "output_type": "stream",
          "name": "stderr",
          "text": [
            "WARNING:matplotlib.image:Clipping input data to the valid range for imshow with RGB data ([0..1] for floats or [0..255] for integers).\n",
            "WARNING:matplotlib.image:Clipping input data to the valid range for imshow with RGB data ([0..1] for floats or [0..255] for integers).\n",
            "WARNING:matplotlib.image:Clipping input data to the valid range for imshow with RGB data ([0..1] for floats or [0..255] for integers).\n"
          ]
        },
        {
          "output_type": "display_data",
          "data": {
            "text/plain": [
              "<Figure size 432x288 with 12 Axes>"
            ],
            "image/png": "[encoded data removed]"
          },
          "metadata": {}
        }
      ]
    },
    {
      "cell_type": "code",
      "source": [
        "from model.network import Network, PrintSummary"
      ],
      "metadata": {
        "id": "Bsxeex5LVxjT"
      },
      "execution_count": 11,
      "outputs": []
    },
    {
      "cell_type": "code",
      "source": [
        "net = Network()\n",
        "net.to(device)\n",
        "PrintSummary(net, (3, 32, 32))"
      ],
      "metadata": {
        "colab": {
          "base_uri": "https://localhost:8080/"
        },
        "id": "0BbBTPqDYwh_",
        "outputId": "8aa679c1-3182-40ff-c525-9e3d34044452"
      },
      "execution_count": 13,
      "outputs": [
        {
          "output_type": "stream",
          "name": "stdout",
          "text": [
            "----------------------------------------------------------------\n",
            "        Layer (type)               Output Shape         Param #\n",
            "================================================================\n",
            "            Conv2d-1           [-1, 16, 32, 32]             432\n",
            "              ReLU-2           [-1, 16, 32, 32]               0\n",
            "       BatchNorm2d-3           [-1, 16, 32, 32]              32\n",
            "           Dropout-4           [-1, 16, 32, 32]               0\n",
            "            Conv2d-5           [-1, 32, 32, 32]           4,608\n",
            "              ReLU-6           [-1, 32, 32, 32]               0\n",
            "       BatchNorm2d-7           [-1, 32, 32, 32]              64\n",
            "           Dropout-8           [-1, 32, 32, 32]               0\n",
            "            Conv2d-9           [-1, 64, 32, 32]          18,432\n",
            "             ReLU-10           [-1, 64, 32, 32]               0\n",
            "      BatchNorm2d-11           [-1, 64, 32, 32]             128\n",
            "          Dropout-12           [-1, 64, 32, 32]               0\n",
            "        MaxPool2d-13           [-1, 64, 16, 16]               0\n",
            "           Conv2d-14           [-1, 64, 16, 16]          36,864\n",
            "             ReLU-15           [-1, 64, 16, 16]               0\n",
            "      BatchNorm2d-16           [-1, 64, 16, 16]             128\n",
            "          Dropout-17           [-1, 64, 16, 16]               0\n",
            "           Conv2d-18           [-1, 64, 16, 16]          36,864\n",
            "             ReLU-19           [-1, 64, 16, 16]               0\n",
            "      BatchNorm2d-20           [-1, 64, 16, 16]             128\n",
            "          Dropout-21           [-1, 64, 16, 16]               0\n",
            "        MaxPool2d-22             [-1, 64, 8, 8]               0\n",
            "           Conv2d-23             [-1, 16, 8, 8]           1,024\n",
            "             ReLU-24             [-1, 16, 8, 8]               0\n",
            "      BatchNorm2d-25             [-1, 16, 8, 8]              32\n",
            "          Dropout-26             [-1, 16, 8, 8]               0\n",
            "           Conv2d-27             [-1, 64, 8, 8]           9,216\n",
            "             ReLU-28             [-1, 64, 8, 8]               0\n",
            "      BatchNorm2d-29             [-1, 64, 8, 8]             128\n",
            "          Dropout-30             [-1, 64, 8, 8]               0\n",
            "           Conv2d-31             [-1, 64, 8, 8]             576\n",
            "           Conv2d-32             [-1, 64, 8, 8]           4,096\n",
            "             ReLU-33             [-1, 64, 8, 8]               0\n",
            "      BatchNorm2d-34             [-1, 64, 8, 8]             128\n",
            "          Dropout-35             [-1, 64, 8, 8]               0\n",
            "        MaxPool2d-36             [-1, 64, 4, 4]               0\n",
            "           Conv2d-37             [-1, 32, 4, 4]           2,048\n",
            "             ReLU-38             [-1, 32, 4, 4]               0\n",
            "      BatchNorm2d-39             [-1, 32, 4, 4]              64\n",
            "          Dropout-40             [-1, 32, 4, 4]               0\n",
            "           Conv2d-41             [-1, 32, 4, 4]           9,216\n",
            "             ReLU-42             [-1, 32, 4, 4]               0\n",
            "      BatchNorm2d-43             [-1, 32, 4, 4]              64\n",
            "          Dropout-44             [-1, 32, 4, 4]               0\n",
            "           Conv2d-45             [-1, 16, 4, 4]           4,608\n",
            "             ReLU-46             [-1, 16, 4, 4]               0\n",
            "      BatchNorm2d-47             [-1, 16, 4, 4]              32\n",
            "          Dropout-48             [-1, 16, 4, 4]               0\n",
            "        AvgPool2d-49             [-1, 16, 1, 1]               0\n",
            "           Conv2d-50             [-1, 10, 1, 1]             170\n",
            "================================================================\n",
            "Total params: 129,082\n",
            "Trainable params: 129,082\n",
            "Non-trainable params: 0\n",
            "----------------------------------------------------------------\n",
            "Input size (MB): 0.01\n",
            "Forward/backward pass size (MB): 5.02\n",
            "Params size (MB): 0.49\n",
            "Estimated Total Size (MB): 5.52\n",
            "----------------------------------------------------------------\n",
            "None\n"
          ]
        }
      ]
    },
    {
      "cell_type": "code",
      "source": [
        "from model.trainer import TrainModel"
      ],
      "metadata": {
        "id": "n5mK7xGmV9gp"
      },
      "execution_count": 14,
      "outputs": []
    },
    {
      "cell_type": "code",
      "source": [
        "data_dict = TrainModel(net, train_loader, test_loader, nn.CrossEntropyLoss, False, 30, 0.01, device)"
      ],
      "metadata": {
        "colab": {
          "base_uri": "https://localhost:8080/"
        },
        "id": "2q_cVtlTYzmy",
        "outputId": "0439c926-33eb-4abc-b4fa-bca1d919e759"
      },
      "execution_count": 15,
      "outputs": [
        {
          "output_type": "stream",
          "name": "stdout",
          "text": [
            "-------------- Epoch 1 --------------\n"
          ]
        },
        {
          "output_type": "stream",
          "name": "stderr",
          "text": [
            "Train: Loss=1.6524 Batch_id=97 Accuracy=30.82: 100%|██████████| 98/98 [00:15<00:00,  6.49it/s]\n"
          ]
        },
        {
          "output_type": "stream",
          "name": "stdout",
          "text": [
            "Test set: Average loss: 1.6097, Accuracy: 4191/10000 (41.91%)\n",
            "\n",
            "-------------- Epoch 2 --------------\n"
          ]
        },
        {
          "output_type": "stream",
          "name": "stderr",
          "text": [
            "Train: Loss=1.5067 Batch_id=97 Accuracy=44.78: 100%|██████████| 98/98 [00:14<00:00,  6.87it/s]\n"
          ]
        },
        {
          "output_type": "stream",
          "name": "stdout",
          "text": [
            "Test set: Average loss: 1.3649, Accuracy: 5009/10000 (50.09%)\n",
            "\n",
            "-------------- Epoch 3 --------------\n"
          ]
        },
        {
          "output_type": "stream",
          "name": "stderr",
          "text": [
            "Train: Loss=1.3529 Batch_id=97 Accuracy=50.38: 100%|██████████| 98/98 [00:14<00:00,  6.64it/s]\n"
          ]
        },
        {
          "output_type": "stream",
          "name": "stdout",
          "text": [
            "Test set: Average loss: 1.2274, Accuracy: 5677/10000 (56.77%)\n",
            "\n",
            "-------------- Epoch 4 --------------\n"
          ]
        },
        {
          "output_type": "stream",
          "name": "stderr",
          "text": [
            "Train: Loss=1.2803 Batch_id=97 Accuracy=53.92: 100%|██████████| 98/98 [00:14<00:00,  6.72it/s]\n"
          ]
        },
        {
          "output_type": "stream",
          "name": "stdout",
          "text": [
            "Test set: Average loss: 1.0805, Accuracy: 6144/10000 (61.44%)\n",
            "\n",
            "-------------- Epoch 5 --------------\n"
          ]
        },
        {
          "output_type": "stream",
          "name": "stderr",
          "text": [
            "Train: Loss=1.1644 Batch_id=97 Accuracy=56.50: 100%|██████████| 98/98 [00:14<00:00,  6.58it/s]\n"
          ]
        },
        {
          "output_type": "stream",
          "name": "stdout",
          "text": [
            "Test set: Average loss: 1.0745, Accuracy: 6182/10000 (61.82%)\n",
            "\n",
            "-------------- Epoch 6 --------------\n"
          ]
        },
        {
          "output_type": "stream",
          "name": "stderr",
          "text": [
            "Train: Loss=1.1771 Batch_id=97 Accuracy=58.82: 100%|██████████| 98/98 [00:14<00:00,  6.68it/s]\n"
          ]
        },
        {
          "output_type": "stream",
          "name": "stdout",
          "text": [
            "Test set: Average loss: 1.1155, Accuracy: 6092/10000 (60.92%)\n",
            "\n",
            "-------------- Epoch 7 --------------\n"
          ]
        },
        {
          "output_type": "stream",
          "name": "stderr",
          "text": [
            "Train: Loss=1.1194 Batch_id=97 Accuracy=60.58: 100%|██████████| 98/98 [00:14<00:00,  6.68it/s]\n"
          ]
        },
        {
          "output_type": "stream",
          "name": "stdout",
          "text": [
            "Test set: Average loss: 0.9570, Accuracy: 6650/10000 (66.50%)\n",
            "\n",
            "-------------- Epoch 8 --------------\n"
          ]
        },
        {
          "output_type": "stream",
          "name": "stderr",
          "text": [
            "Train: Loss=1.0987 Batch_id=97 Accuracy=62.00: 100%|██████████| 98/98 [00:14<00:00,  6.70it/s]\n"
          ]
        },
        {
          "output_type": "stream",
          "name": "stdout",
          "text": [
            "Test set: Average loss: 0.8840, Accuracy: 6930/10000 (69.30%)\n",
            "\n",
            "-------------- Epoch 9 --------------\n"
          ]
        },
        {
          "output_type": "stream",
          "name": "stderr",
          "text": [
            "Train: Loss=1.0433 Batch_id=97 Accuracy=63.30: 100%|██████████| 98/98 [00:14<00:00,  6.80it/s]\n"
          ]
        },
        {
          "output_type": "stream",
          "name": "stdout",
          "text": [
            "Test set: Average loss: 0.8358, Accuracy: 7086/10000 (70.86%)\n",
            "\n",
            "-------------- Epoch 10 --------------\n"
          ]
        },
        {
          "output_type": "stream",
          "name": "stderr",
          "text": [
            "Train: Loss=1.0815 Batch_id=97 Accuracy=64.58: 100%|██████████| 98/98 [00:14<00:00,  6.65it/s]\n"
          ]
        },
        {
          "output_type": "stream",
          "name": "stdout",
          "text": [
            "Test set: Average loss: 0.8425, Accuracy: 7050/10000 (70.50%)\n",
            "\n",
            "-------------- Epoch 11 --------------\n"
          ]
        },
        {
          "output_type": "stream",
          "name": "stderr",
          "text": [
            "Train: Loss=0.9543 Batch_id=97 Accuracy=65.59: 100%|██████████| 98/98 [00:14<00:00,  6.75it/s]\n"
          ]
        },
        {
          "output_type": "stream",
          "name": "stdout",
          "text": [
            "Test set: Average loss: 0.8163, Accuracy: 7188/10000 (71.88%)\n",
            "\n",
            "-------------- Epoch 12 --------------\n"
          ]
        },
        {
          "output_type": "stream",
          "name": "stderr",
          "text": [
            "Train: Loss=0.8731 Batch_id=97 Accuracy=66.80: 100%|██████████| 98/98 [00:14<00:00,  6.69it/s]\n"
          ]
        },
        {
          "output_type": "stream",
          "name": "stdout",
          "text": [
            "Test set: Average loss: 0.7906, Accuracy: 7258/10000 (72.58%)\n",
            "\n",
            "-------------- Epoch 13 --------------\n"
          ]
        },
        {
          "output_type": "stream",
          "name": "stderr",
          "text": [
            "Train: Loss=0.8968 Batch_id=97 Accuracy=67.33: 100%|██████████| 98/98 [00:14<00:00,  6.72it/s]\n"
          ]
        },
        {
          "output_type": "stream",
          "name": "stdout",
          "text": [
            "Test set: Average loss: 0.7317, Accuracy: 7446/10000 (74.46%)\n",
            "\n",
            "-------------- Epoch 14 --------------\n"
          ]
        },
        {
          "output_type": "stream",
          "name": "stderr",
          "text": [
            "Train: Loss=0.9538 Batch_id=97 Accuracy=68.20: 100%|██████████| 98/98 [00:14<00:00,  6.60it/s]\n"
          ]
        },
        {
          "output_type": "stream",
          "name": "stdout",
          "text": [
            "Test set: Average loss: 0.7222, Accuracy: 7513/10000 (75.13%)\n",
            "\n",
            "-------------- Epoch 15 --------------\n"
          ]
        },
        {
          "output_type": "stream",
          "name": "stderr",
          "text": [
            "Train: Loss=0.8777 Batch_id=97 Accuracy=68.78: 100%|██████████| 98/98 [00:14<00:00,  6.72it/s]\n"
          ]
        },
        {
          "output_type": "stream",
          "name": "stdout",
          "text": [
            "Test set: Average loss: 0.7024, Accuracy: 7581/10000 (75.81%)\n",
            "\n",
            "-------------- Epoch 16 --------------\n"
          ]
        },
        {
          "output_type": "stream",
          "name": "stderr",
          "text": [
            "Train: Loss=0.8136 Batch_id=97 Accuracy=69.36: 100%|██████████| 98/98 [00:14<00:00,  6.71it/s]\n"
          ]
        },
        {
          "output_type": "stream",
          "name": "stdout",
          "text": [
            "Test set: Average loss: 0.7000, Accuracy: 7581/10000 (75.81%)\n",
            "\n",
            "-------------- Epoch 17 --------------\n"
          ]
        },
        {
          "output_type": "stream",
          "name": "stderr",
          "text": [
            "Train: Loss=0.7929 Batch_id=97 Accuracy=69.87: 100%|██████████| 98/98 [00:14<00:00,  6.64it/s]\n"
          ]
        },
        {
          "output_type": "stream",
          "name": "stdout",
          "text": [
            "Test set: Average loss: 0.6937, Accuracy: 7630/10000 (76.30%)\n",
            "\n",
            "-------------- Epoch 18 --------------\n"
          ]
        },
        {
          "output_type": "stream",
          "name": "stderr",
          "text": [
            "Train: Loss=0.9524 Batch_id=97 Accuracy=70.45: 100%|██████████| 98/98 [00:14<00:00,  6.65it/s]\n"
          ]
        },
        {
          "output_type": "stream",
          "name": "stdout",
          "text": [
            "Test set: Average loss: 0.7081, Accuracy: 7562/10000 (75.62%)\n",
            "\n",
            "-------------- Epoch 19 --------------\n"
          ]
        },
        {
          "output_type": "stream",
          "name": "stderr",
          "text": [
            "Train: Loss=0.7545 Batch_id=97 Accuracy=70.66: 100%|██████████| 98/98 [00:14<00:00,  6.71it/s]\n"
          ]
        },
        {
          "output_type": "stream",
          "name": "stdout",
          "text": [
            "Test set: Average loss: 0.6564, Accuracy: 7720/10000 (77.20%)\n",
            "\n",
            "-------------- Epoch 20 --------------\n"
          ]
        },
        {
          "output_type": "stream",
          "name": "stderr",
          "text": [
            "Train: Loss=0.8412 Batch_id=97 Accuracy=71.40: 100%|██████████| 98/98 [00:14<00:00,  6.75it/s]\n"
          ]
        },
        {
          "output_type": "stream",
          "name": "stdout",
          "text": [
            "Test set: Average loss: 0.6641, Accuracy: 7742/10000 (77.42%)\n",
            "\n",
            "-------------- Epoch 21 --------------\n"
          ]
        },
        {
          "output_type": "stream",
          "name": "stderr",
          "text": [
            "Train: Loss=0.8194 Batch_id=97 Accuracy=72.00: 100%|██████████| 98/98 [00:14<00:00,  6.78it/s]\n"
          ]
        },
        {
          "output_type": "stream",
          "name": "stdout",
          "text": [
            "Test set: Average loss: 0.6437, Accuracy: 7796/10000 (77.96%)\n",
            "\n",
            "-------------- Epoch 22 --------------\n"
          ]
        },
        {
          "output_type": "stream",
          "name": "stderr",
          "text": [
            "Train: Loss=0.8192 Batch_id=97 Accuracy=72.19: 100%|██████████| 98/98 [00:14<00:00,  6.73it/s]\n"
          ]
        },
        {
          "output_type": "stream",
          "name": "stdout",
          "text": [
            "Test set: Average loss: 0.6488, Accuracy: 7750/10000 (77.50%)\n",
            "\n",
            "-------------- Epoch 23 --------------\n"
          ]
        },
        {
          "output_type": "stream",
          "name": "stderr",
          "text": [
            "Train: Loss=0.8186 Batch_id=97 Accuracy=72.68: 100%|██████████| 98/98 [00:14<00:00,  6.88it/s]\n"
          ]
        },
        {
          "output_type": "stream",
          "name": "stdout",
          "text": [
            "Test set: Average loss: 0.6309, Accuracy: 7803/10000 (78.03%)\n",
            "\n",
            "-------------- Epoch 24 --------------\n"
          ]
        },
        {
          "output_type": "stream",
          "name": "stderr",
          "text": [
            "Train: Loss=0.8158 Batch_id=97 Accuracy=72.96: 100%|██████████| 98/98 [00:14<00:00,  6.73it/s]\n"
          ]
        },
        {
          "output_type": "stream",
          "name": "stdout",
          "text": [
            "Test set: Average loss: 0.6311, Accuracy: 7816/10000 (78.16%)\n",
            "\n",
            "-------------- Epoch 25 --------------\n"
          ]
        },
        {
          "output_type": "stream",
          "name": "stderr",
          "text": [
            "Train: Loss=0.7440 Batch_id=97 Accuracy=73.27: 100%|██████████| 98/98 [00:14<00:00,  6.86it/s]\n"
          ]
        },
        {
          "output_type": "stream",
          "name": "stdout",
          "text": [
            "Test set: Average loss: 0.6112, Accuracy: 7885/10000 (78.85%)\n",
            "\n",
            "-------------- Epoch 26 --------------\n"
          ]
        },
        {
          "output_type": "stream",
          "name": "stderr",
          "text": [
            "Train: Loss=0.7590 Batch_id=97 Accuracy=73.61: 100%|██████████| 98/98 [00:14<00:00,  6.81it/s]\n"
          ]
        },
        {
          "output_type": "stream",
          "name": "stdout",
          "text": [
            "Test set: Average loss: 0.6038, Accuracy: 7915/10000 (79.15%)\n",
            "\n",
            "-------------- Epoch 27 --------------\n"
          ]
        },
        {
          "output_type": "stream",
          "name": "stderr",
          "text": [
            "Train: Loss=0.8299 Batch_id=97 Accuracy=73.94: 100%|██████████| 98/98 [00:14<00:00,  6.84it/s]\n"
          ]
        },
        {
          "output_type": "stream",
          "name": "stdout",
          "text": [
            "Test set: Average loss: 0.6219, Accuracy: 7900/10000 (79.00%)\n",
            "\n",
            "-------------- Epoch 28 --------------\n"
          ]
        },
        {
          "output_type": "stream",
          "name": "stderr",
          "text": [
            "Train: Loss=0.8606 Batch_id=97 Accuracy=74.39: 100%|██████████| 98/98 [00:14<00:00,  6.77it/s]\n"
          ]
        },
        {
          "output_type": "stream",
          "name": "stdout",
          "text": [
            "Test set: Average loss: 0.5933, Accuracy: 7996/10000 (79.96%)\n",
            "\n",
            "-------------- Epoch 29 --------------\n"
          ]
        },
        {
          "output_type": "stream",
          "name": "stderr",
          "text": [
            "Train: Loss=0.7322 Batch_id=97 Accuracy=74.73: 100%|██████████| 98/98 [00:14<00:00,  6.63it/s]\n"
          ]
        },
        {
          "output_type": "stream",
          "name": "stdout",
          "text": [
            "Test set: Average loss: 0.5810, Accuracy: 8034/10000 (80.34%)\n",
            "\n",
            "-------------- Epoch 30 --------------\n"
          ]
        },
        {
          "output_type": "stream",
          "name": "stderr",
          "text": [
            "Train: Loss=0.7478 Batch_id=97 Accuracy=74.67: 100%|██████████| 98/98 [00:14<00:00,  6.55it/s]\n"
          ]
        },
        {
          "output_type": "stream",
          "name": "stdout",
          "text": [
            "Test set: Average loss: 0.5745, Accuracy: 8022/10000 (80.22%)\n",
            "\n"
          ]
        }
      ]
    },
    {
      "cell_type": "code",
      "source": [
        "data_dict_2 = TrainModel(net, train_loader, test_loader, nn.CrossEntropyLoss, False, 10, 0.001, device)"
      ],
      "metadata": {
        "colab": {
          "base_uri": "https://localhost:8080/"
        },
        "id": "WxiKU6dG4NWy",
        "outputId": "12262edb-84f2-447e-ed0c-10e94ad87a57"
      },
      "execution_count": 23,
      "outputs": [
        {
          "output_type": "stream",
          "name": "stdout",
          "text": [
            "-------------- Epoch 1 --------------\n"
          ]
        },
        {
          "output_type": "stream",
          "name": "stderr",
          "text": [
            "Train: Loss=0.6634 Batch_id=97 Accuracy=76.79: 100%|██████████| 98/98 [00:14<00:00,  6.67it/s]\n"
          ]
        },
        {
          "output_type": "stream",
          "name": "stdout",
          "text": [
            "Test set: Average loss: 0.5247, Accuracy: 8225/10000 (82.25%)\n",
            "\n",
            "-------------- Epoch 2 --------------\n"
          ]
        },
        {
          "output_type": "stream",
          "name": "stderr",
          "text": [
            "Train: Loss=0.6767 Batch_id=97 Accuracy=76.74: 100%|██████████| 98/98 [00:14<00:00,  6.94it/s]\n"
          ]
        },
        {
          "output_type": "stream",
          "name": "stdout",
          "text": [
            "Test set: Average loss: 0.5279, Accuracy: 8227/10000 (82.27%)\n",
            "\n",
            "-------------- Epoch 3 --------------\n"
          ]
        },
        {
          "output_type": "stream",
          "name": "stderr",
          "text": [
            "Train: Loss=0.6517 Batch_id=97 Accuracy=77.03: 100%|██████████| 98/98 [00:13<00:00,  7.08it/s]\n"
          ]
        },
        {
          "output_type": "stream",
          "name": "stdout",
          "text": [
            "Test set: Average loss: 0.5200, Accuracy: 8258/10000 (82.58%)\n",
            "\n",
            "-------------- Epoch 4 --------------\n"
          ]
        },
        {
          "output_type": "stream",
          "name": "stderr",
          "text": [
            "Train: Loss=0.6372 Batch_id=97 Accuracy=77.39: 100%|██████████| 98/98 [00:14<00:00,  6.83it/s]\n"
          ]
        },
        {
          "output_type": "stream",
          "name": "stdout",
          "text": [
            "Test set: Average loss: 0.5173, Accuracy: 8266/10000 (82.66%)\n",
            "\n",
            "-------------- Epoch 5 --------------\n"
          ]
        },
        {
          "output_type": "stream",
          "name": "stderr",
          "text": [
            "Train: Loss=0.6526 Batch_id=97 Accuracy=77.42: 100%|██████████| 98/98 [00:14<00:00,  6.79it/s]\n"
          ]
        },
        {
          "output_type": "stream",
          "name": "stdout",
          "text": [
            "Test set: Average loss: 0.5144, Accuracy: 8264/10000 (82.64%)\n",
            "\n",
            "-------------- Epoch 6 --------------\n"
          ]
        },
        {
          "output_type": "stream",
          "name": "stderr",
          "text": [
            "Train: Loss=0.5683 Batch_id=97 Accuracy=77.11: 100%|██████████| 98/98 [00:14<00:00,  6.74it/s]\n"
          ]
        },
        {
          "output_type": "stream",
          "name": "stdout",
          "text": [
            "Test set: Average loss: 0.5128, Accuracy: 8268/10000 (82.68%)\n",
            "\n",
            "-------------- Epoch 7 --------------\n"
          ]
        },
        {
          "output_type": "stream",
          "name": "stderr",
          "text": [
            "Train: Loss=0.6726 Batch_id=97 Accuracy=77.48: 100%|██████████| 98/98 [00:14<00:00,  6.84it/s]\n"
          ]
        },
        {
          "output_type": "stream",
          "name": "stdout",
          "text": [
            "Test set: Average loss: 0.5111, Accuracy: 8270/10000 (82.70%)\n",
            "\n",
            "-------------- Epoch 8 --------------\n"
          ]
        },
        {
          "output_type": "stream",
          "name": "stderr",
          "text": [
            "Train: Loss=0.6091 Batch_id=97 Accuracy=77.60: 100%|██████████| 98/98 [00:14<00:00,  6.83it/s]\n"
          ]
        },
        {
          "output_type": "stream",
          "name": "stdout",
          "text": [
            "Test set: Average loss: 0.5097, Accuracy: 8273/10000 (82.73%)\n",
            "\n",
            "-------------- Epoch 9 --------------\n"
          ]
        },
        {
          "output_type": "stream",
          "name": "stderr",
          "text": [
            "Train: Loss=0.6466 Batch_id=97 Accuracy=77.37: 100%|██████████| 98/98 [00:13<00:00,  7.03it/s]\n"
          ]
        },
        {
          "output_type": "stream",
          "name": "stdout",
          "text": [
            "Test set: Average loss: 0.5111, Accuracy: 8265/10000 (82.65%)\n",
            "\n",
            "-------------- Epoch 10 --------------\n"
          ]
        },
        {
          "output_type": "stream",
          "name": "stderr",
          "text": [
            "Train: Loss=0.6370 Batch_id=97 Accuracy=78.07: 100%|██████████| 98/98 [00:14<00:00,  6.97it/s]\n"
          ]
        },
        {
          "output_type": "stream",
          "name": "stdout",
          "text": [
            "Test set: Average loss: 0.5111, Accuracy: 8255/10000 (82.55%)\n",
            "\n"
          ]
        }
      ]
    },
    {
      "cell_type": "code",
      "source": [
        "def Merge(pDict1, pDict2):\n",
        "    dict_ = {}\n",
        "    for i in pDict1.keys():\n",
        "        if type(pDict1[i]) is dict:\n",
        "            dict_[i] = Merge(pDict1[i], pDict2[i])\n",
        "        else:\n",
        "            dict_[i] = pDict1[i] + pDict2[i]\n",
        "    return dict_"
      ],
      "metadata": {
        "id": "VxiFlmGK5F1-"
      },
      "execution_count": 29,
      "outputs": []
    },
    {
      "cell_type": "code",
      "source": [
        "data_dict_merged = Merge (data_dict, data_dict_2)"
      ],
      "metadata": {
        "id": "D1LUTavm6vQC"
      },
      "execution_count": 30,
      "outputs": []
    },
    {
      "cell_type": "markdown",
      "source": [
        "### Misclassified images (from Test set)"
      ],
      "metadata": {
        "id": "K7tM1oZngfhg"
      }
    },
    {
      "cell_type": "code",
      "source": [
        "from visualizer.visualizer import DisplayIncorrectPredictions"
      ],
      "metadata": {
        "id": "1BDoAGdgg1wb"
      },
      "execution_count": 16,
      "outputs": []
    },
    {
      "cell_type": "code",
      "source": [
        "DisplayIncorrectPredictions (data_dict_merged['incorrect_pred'], classes, [mean, std])"
      ],
      "metadata": {
        "colab": {
          "base_uri": "https://localhost:8080/",
          "height": 277
        },
        "id": "Jh4GOW1O7Fc0",
        "outputId": "95d1028e-934a-4ba8-c669-df571981259e"
      },
      "execution_count": 31,
      "outputs": [
        {
          "output_type": "stream",
          "name": "stderr",
          "text": [
            "WARNING:matplotlib.image:Clipping input data to the valid range for imshow with RGB data ([0..1] for floats or [0..255] for integers).\n",
            "WARNING:matplotlib.image:Clipping input data to the valid range for imshow with RGB data ([0..1] for floats or [0..255] for integers).\n",
            "WARNING:matplotlib.image:Clipping input data to the valid range for imshow with RGB data ([0..1] for floats or [0..255] for integers).\n"
          ]
        },
        {
          "output_type": "display_data",
          "data": {
            "text/plain": [
              "<Figure size 576x216 with 10 Axes>"
            ],
            "image/png": "[encoded data removed]"
          },
          "metadata": {}
        }
      ]
    },
    {
      "cell_type": "markdown",
      "source": [
        "### Loss/Accuracy graphs"
      ],
      "metadata": {
        "id": "5qvQjH_bhFDp"
      }
    },
    {
      "cell_type": "code",
      "source": [
        "from visualizer.visualizer import PlotTrainVsTest"
      ],
      "metadata": {
        "id": "MGUU1Xh9j_jj"
      },
      "execution_count": 19,
      "outputs": []
    },
    {
      "cell_type": "code",
      "source": [
        "# Accuracy curves\n",
        "PlotTrainVsTest ((\"Training Accuracy\", data_dict_merged['train_acc']), (\"Test Accuracy\", data_dict_merged['test_acc']))"
      ],
      "metadata": {
        "colab": {
          "base_uri": "https://localhost:8080/",
          "height": 281
        },
        "id": "Krea4PFW7Ki7",
        "outputId": "ae34ff2f-f385-406b-d248-797eefa123e1"
      },
      "execution_count": 32,
      "outputs": [
        {
          "output_type": "display_data",
          "data": {
            "text/plain": [
              "<Figure size 720x288 with 2 Axes>"
            ],
            "image/png": "[encoded data removed]"
          },
          "metadata": {
            "needs_background": "light"
          }
        }
      ]
    },
    {
      "cell_type": "code",
      "source": [
        "# Loss curves\n",
        "PlotTrainVsTest ((\"Training Loss\", data_dict_merged['train_loss']), (\"Test Loss\", data_dict_merged['test_loss']))"
      ],
      "metadata": {
        "colab": {
          "base_uri": "https://localhost:8080/",
          "height": 281
        },
        "id": "AK9COawNkHdR",
        "outputId": "1e432259-6c9a-4761-813c-ac408ae03ad4"
      },
      "execution_count": 33,
      "outputs": [
        {
          "output_type": "display_data",
          "data": {
            "text/plain": [
              "<Figure size 720x288 with 2 Axes>"
            ],
            "image/png": "[encoded data removed]"
          },
          "metadata": {
            "needs_background": "light"
          }
        }
      ]
    }
  ]
}